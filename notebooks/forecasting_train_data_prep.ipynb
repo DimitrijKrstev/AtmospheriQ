{
 "cells": [
  {
   "cell_type": "markdown",
   "metadata": {},
   "source": [
    "---\n",
    "# Imports"
   ]
  },
  {
   "cell_type": "code",
   "execution_count": 19,
   "metadata": {},
   "outputs": [],
   "source": [
    "import pandas as pd\n",
    "import missingno as msno"
   ]
  },
  {
   "cell_type": "markdown",
   "metadata": {},
   "source": [
    "---\n",
    "# Load the data"
   ]
  },
  {
   "cell_type": "code",
   "execution_count": 20,
   "metadata": {},
   "outputs": [
    {
     "name": "stderr",
     "output_type": "stream",
     "text": [
      "C:\\Users\\Nikola\\AppData\\Local\\Temp\\ipykernel_60748\\23254591.py:1: DtypeWarning: Columns (0) have mixed types. Specify dtype option on import or set low_memory=False.\n",
      "  df = pd.read_csv('../data/new_df.csv')\n"
     ]
    }
   ],
   "source": [
    "df = pd.read_csv('../data/new_df.csv')"
   ]
  },
  {
   "cell_type": "code",
   "execution_count": 21,
   "metadata": {},
   "outputs": [
    {
     "data": {
      "text/html": [
       "<div>\n",
       "<style scoped>\n",
       "    .dataframe tbody tr th:only-of-type {\n",
       "        vertical-align: middle;\n",
       "    }\n",
       "\n",
       "    .dataframe tbody tr th {\n",
       "        vertical-align: top;\n",
       "    }\n",
       "\n",
       "    .dataframe thead th {\n",
       "        text-align: right;\n",
       "    }\n",
       "</style>\n",
       "<table border=\"1\" class=\"dataframe\">\n",
       "  <thead>\n",
       "    <tr style=\"text-align: right;\">\n",
       "      <th></th>\n",
       "      <th>SensorId</th>\n",
       "      <th>Stamp</th>\n",
       "      <th>humidity</th>\n",
       "      <th>pm10</th>\n",
       "      <th>pm25</th>\n",
       "      <th>temperature</th>\n",
       "      <th>Hour</th>\n",
       "      <th>Month_Day_Calculation</th>\n",
       "    </tr>\n",
       "  </thead>\n",
       "  <tbody>\n",
       "    <tr>\n",
       "      <th>0</th>\n",
       "      <td>007f2b03-94e6-47b3-9e3e-44273354acd5</td>\n",
       "      <td>2023-01-01 00:00:00+00:00</td>\n",
       "      <td>86.0</td>\n",
       "      <td>55.0</td>\n",
       "      <td>30.0</td>\n",
       "      <td>4.0</td>\n",
       "      <td>0.00</td>\n",
       "      <td>1.032258</td>\n",
       "    </tr>\n",
       "    <tr>\n",
       "      <th>1</th>\n",
       "      <td>007f2b03-94e6-47b3-9e3e-44273354acd5</td>\n",
       "      <td>2023-01-01 00:15:00+00:00</td>\n",
       "      <td>86.0</td>\n",
       "      <td>59.5</td>\n",
       "      <td>32.0</td>\n",
       "      <td>4.0</td>\n",
       "      <td>0.25</td>\n",
       "      <td>1.032258</td>\n",
       "    </tr>\n",
       "    <tr>\n",
       "      <th>2</th>\n",
       "      <td>007f2b03-94e6-47b3-9e3e-44273354acd5</td>\n",
       "      <td>2023-01-01 00:30:00+00:00</td>\n",
       "      <td>86.0</td>\n",
       "      <td>64.0</td>\n",
       "      <td>34.0</td>\n",
       "      <td>4.0</td>\n",
       "      <td>0.50</td>\n",
       "      <td>1.032258</td>\n",
       "    </tr>\n",
       "  </tbody>\n",
       "</table>\n",
       "</div>"
      ],
      "text/plain": [
       "                               SensorId                      Stamp  humidity  \\\n",
       "0  007f2b03-94e6-47b3-9e3e-44273354acd5  2023-01-01 00:00:00+00:00      86.0   \n",
       "1  007f2b03-94e6-47b3-9e3e-44273354acd5  2023-01-01 00:15:00+00:00      86.0   \n",
       "2  007f2b03-94e6-47b3-9e3e-44273354acd5  2023-01-01 00:30:00+00:00      86.0   \n",
       "\n",
       "   pm10  pm25  temperature  Hour  Month_Day_Calculation  \n",
       "0  55.0  30.0          4.0  0.00               1.032258  \n",
       "1  59.5  32.0          4.0  0.25               1.032258  \n",
       "2  64.0  34.0          4.0  0.50               1.032258  "
      ]
     },
     "execution_count": 21,
     "metadata": {},
     "output_type": "execute_result"
    }
   ],
   "source": [
    "df.head(3)"
   ]
  },
  {
   "cell_type": "code",
   "execution_count": 22,
   "metadata": {},
   "outputs": [
    {
     "data": {
      "text/plain": [
       "5217076"
      ]
     },
     "execution_count": 22,
     "metadata": {},
     "output_type": "execute_result"
    }
   ],
   "source": [
    "len(df)"
   ]
  },
  {
   "cell_type": "markdown",
   "metadata": {},
   "source": [
    "---\n",
    "# Data Preparation"
   ]
  },
  {
   "cell_type": "markdown",
   "metadata": {},
   "source": [
    "Drop columns due to need for further forecasting"
   ]
  },
  {
   "cell_type": "code",
   "execution_count": 23,
   "metadata": {},
   "outputs": [],
   "source": [
    "df = df.drop(columns=['humidity', 'temperature', 'pm25'])"
   ]
  },
  {
   "cell_type": "markdown",
   "metadata": {},
   "source": [
    "## Deal with missing values"
   ]
  },
  {
   "cell_type": "code",
   "execution_count": 24,
   "metadata": {},
   "outputs": [
    {
     "data": {
      "text/plain": [
       "SensorId                 0.000000\n",
       "Stamp                    0.000000\n",
       "pm10                     0.044719\n",
       "Hour                     0.000000\n",
       "Month_Day_Calculation    0.000000\n",
       "dtype: float64"
      ]
     },
     "execution_count": 24,
     "metadata": {},
     "output_type": "execute_result"
    }
   ],
   "source": [
    "df.isnull().sum() / len(df) * 100"
   ]
  },
  {
   "cell_type": "markdown",
   "metadata": {},
   "source": [
    "### Interpolation"
   ]
  },
  {
   "cell_type": "code",
   "execution_count": 25,
   "metadata": {},
   "outputs": [],
   "source": [
    "df['pm10'] = df['pm10'].interpolate(method='cubic', limit_direction='both')"
   ]
  },
  {
   "cell_type": "code",
   "execution_count": 26,
   "metadata": {},
   "outputs": [
    {
     "data": {
      "text/plain": [
       "SensorId                 0.0\n",
       "Stamp                    0.0\n",
       "pm10                     0.0\n",
       "Hour                     0.0\n",
       "Month_Day_Calculation    0.0\n",
       "dtype: float64"
      ]
     },
     "execution_count": 26,
     "metadata": {},
     "output_type": "execute_result"
    }
   ],
   "source": [
    "df.isnull().sum() / len(df) * 100"
   ]
  },
  {
   "cell_type": "markdown",
   "metadata": {},
   "source": [
    "## Shift the target variable"
   ]
  },
  {
   "cell_type": "code",
   "execution_count": 27,
   "metadata": {},
   "outputs": [
    {
     "data": {
      "text/html": [
       "<div>\n",
       "<style scoped>\n",
       "    .dataframe tbody tr th:only-of-type {\n",
       "        vertical-align: middle;\n",
       "    }\n",
       "\n",
       "    .dataframe tbody tr th {\n",
       "        vertical-align: top;\n",
       "    }\n",
       "\n",
       "    .dataframe thead th {\n",
       "        text-align: right;\n",
       "    }\n",
       "</style>\n",
       "<table border=\"1\" class=\"dataframe\">\n",
       "  <thead>\n",
       "    <tr style=\"text-align: right;\">\n",
       "      <th></th>\n",
       "      <th>SensorId</th>\n",
       "      <th>Stamp</th>\n",
       "      <th>pm10</th>\n",
       "      <th>Hour</th>\n",
       "      <th>Month_Day_Calculation</th>\n",
       "    </tr>\n",
       "  </thead>\n",
       "  <tbody>\n",
       "    <tr>\n",
       "      <th>0</th>\n",
       "      <td>007f2b03-94e6-47b3-9e3e-44273354acd5</td>\n",
       "      <td>2023-01-01 00:00:00+00:00</td>\n",
       "      <td>55.0</td>\n",
       "      <td>0.00</td>\n",
       "      <td>1.032258</td>\n",
       "    </tr>\n",
       "    <tr>\n",
       "      <th>1</th>\n",
       "      <td>007f2b03-94e6-47b3-9e3e-44273354acd5</td>\n",
       "      <td>2023-01-01 00:15:00+00:00</td>\n",
       "      <td>59.5</td>\n",
       "      <td>0.25</td>\n",
       "      <td>1.032258</td>\n",
       "    </tr>\n",
       "    <tr>\n",
       "      <th>2</th>\n",
       "      <td>007f2b03-94e6-47b3-9e3e-44273354acd5</td>\n",
       "      <td>2023-01-01 00:30:00+00:00</td>\n",
       "      <td>64.0</td>\n",
       "      <td>0.50</td>\n",
       "      <td>1.032258</td>\n",
       "    </tr>\n",
       "  </tbody>\n",
       "</table>\n",
       "</div>"
      ],
      "text/plain": [
       "                               SensorId                      Stamp  pm10  \\\n",
       "0  007f2b03-94e6-47b3-9e3e-44273354acd5  2023-01-01 00:00:00+00:00  55.0   \n",
       "1  007f2b03-94e6-47b3-9e3e-44273354acd5  2023-01-01 00:15:00+00:00  59.5   \n",
       "2  007f2b03-94e6-47b3-9e3e-44273354acd5  2023-01-01 00:30:00+00:00  64.0   \n",
       "\n",
       "   Hour  Month_Day_Calculation  \n",
       "0  0.00               1.032258  \n",
       "1  0.25               1.032258  \n",
       "2  0.50               1.032258  "
      ]
     },
     "execution_count": 27,
     "metadata": {},
     "output_type": "execute_result"
    }
   ],
   "source": [
    "df.head(3)"
   ]
  },
  {
   "cell_type": "code",
   "execution_count": 28,
   "metadata": {},
   "outputs": [],
   "source": [
    "df['pm10 - 1'] = df['pm10'].shift(1)\n",
    "df['pm10 - 2'] = df['pm10'].shift(2)\n",
    "df['pm10 - 3'] = df['pm10'].shift(3)"
   ]
  },
  {
   "cell_type": "code",
   "execution_count": 29,
   "metadata": {},
   "outputs": [],
   "source": [
    "df['SensorId  - 1'] = df['SensorId'].shift(1)\n",
    "df['SensorId  - 2'] = df['SensorId'].shift(2)\n",
    "df['SensorId  - 3'] = df['SensorId'].shift(3)"
   ]
  },
  {
   "cell_type": "code",
   "execution_count": 30,
   "metadata": {},
   "outputs": [
    {
     "data": {
      "text/plain": [
       "5217076"
      ]
     },
     "execution_count": 30,
     "metadata": {},
     "output_type": "execute_result"
    }
   ],
   "source": [
    "len(df)"
   ]
  },
  {
   "cell_type": "code",
   "execution_count": 31,
   "metadata": {},
   "outputs": [],
   "source": [
    "df = df[df['SensorId'] == df['SensorId  - 1']]\n",
    "df = df[df['SensorId'] == df['SensorId  - 2']]\n",
    "df = df[df['SensorId'] == df['SensorId  - 3']]"
   ]
  },
  {
   "cell_type": "code",
   "execution_count": 32,
   "metadata": {},
   "outputs": [
    {
     "data": {
      "text/plain": [
       "5216641"
      ]
     },
     "execution_count": 32,
     "metadata": {},
     "output_type": "execute_result"
    }
   ],
   "source": [
    "len(df)"
   ]
  },
  {
   "cell_type": "code",
   "execution_count": 33,
   "metadata": {},
   "outputs": [
    {
     "data": {
      "text/html": [
       "<div>\n",
       "<style scoped>\n",
       "    .dataframe tbody tr th:only-of-type {\n",
       "        vertical-align: middle;\n",
       "    }\n",
       "\n",
       "    .dataframe tbody tr th {\n",
       "        vertical-align: top;\n",
       "    }\n",
       "\n",
       "    .dataframe thead th {\n",
       "        text-align: right;\n",
       "    }\n",
       "</style>\n",
       "<table border=\"1\" class=\"dataframe\">\n",
       "  <thead>\n",
       "    <tr style=\"text-align: right;\">\n",
       "      <th></th>\n",
       "      <th>SensorId</th>\n",
       "      <th>Stamp</th>\n",
       "      <th>pm10</th>\n",
       "      <th>Hour</th>\n",
       "      <th>Month_Day_Calculation</th>\n",
       "      <th>pm10 - 1</th>\n",
       "      <th>pm10 - 2</th>\n",
       "      <th>pm10 - 3</th>\n",
       "      <th>SensorId  - 1</th>\n",
       "      <th>SensorId  - 2</th>\n",
       "      <th>SensorId  - 3</th>\n",
       "    </tr>\n",
       "  </thead>\n",
       "  <tbody>\n",
       "    <tr>\n",
       "      <th>3</th>\n",
       "      <td>007f2b03-94e6-47b3-9e3e-44273354acd5</td>\n",
       "      <td>2023-01-01 00:45:00+00:00</td>\n",
       "      <td>68.0</td>\n",
       "      <td>0.75</td>\n",
       "      <td>1.032258</td>\n",
       "      <td>64.0</td>\n",
       "      <td>59.5</td>\n",
       "      <td>55.0</td>\n",
       "      <td>007f2b03-94e6-47b3-9e3e-44273354acd5</td>\n",
       "      <td>007f2b03-94e6-47b3-9e3e-44273354acd5</td>\n",
       "      <td>007f2b03-94e6-47b3-9e3e-44273354acd5</td>\n",
       "    </tr>\n",
       "    <tr>\n",
       "      <th>4</th>\n",
       "      <td>007f2b03-94e6-47b3-9e3e-44273354acd5</td>\n",
       "      <td>2023-01-01 01:00:00+00:00</td>\n",
       "      <td>65.0</td>\n",
       "      <td>1.00</td>\n",
       "      <td>1.032258</td>\n",
       "      <td>68.0</td>\n",
       "      <td>64.0</td>\n",
       "      <td>59.5</td>\n",
       "      <td>007f2b03-94e6-47b3-9e3e-44273354acd5</td>\n",
       "      <td>007f2b03-94e6-47b3-9e3e-44273354acd5</td>\n",
       "      <td>007f2b03-94e6-47b3-9e3e-44273354acd5</td>\n",
       "    </tr>\n",
       "    <tr>\n",
       "      <th>5</th>\n",
       "      <td>007f2b03-94e6-47b3-9e3e-44273354acd5</td>\n",
       "      <td>2023-01-01 01:15:00+00:00</td>\n",
       "      <td>54.0</td>\n",
       "      <td>1.25</td>\n",
       "      <td>1.032258</td>\n",
       "      <td>65.0</td>\n",
       "      <td>68.0</td>\n",
       "      <td>64.0</td>\n",
       "      <td>007f2b03-94e6-47b3-9e3e-44273354acd5</td>\n",
       "      <td>007f2b03-94e6-47b3-9e3e-44273354acd5</td>\n",
       "      <td>007f2b03-94e6-47b3-9e3e-44273354acd5</td>\n",
       "    </tr>\n",
       "  </tbody>\n",
       "</table>\n",
       "</div>"
      ],
      "text/plain": [
       "                               SensorId                      Stamp  pm10  \\\n",
       "3  007f2b03-94e6-47b3-9e3e-44273354acd5  2023-01-01 00:45:00+00:00  68.0   \n",
       "4  007f2b03-94e6-47b3-9e3e-44273354acd5  2023-01-01 01:00:00+00:00  65.0   \n",
       "5  007f2b03-94e6-47b3-9e3e-44273354acd5  2023-01-01 01:15:00+00:00  54.0   \n",
       "\n",
       "   Hour  Month_Day_Calculation  pm10 - 1  pm10 - 2  pm10 - 3  \\\n",
       "3  0.75               1.032258      64.0      59.5      55.0   \n",
       "4  1.00               1.032258      68.0      64.0      59.5   \n",
       "5  1.25               1.032258      65.0      68.0      64.0   \n",
       "\n",
       "                          SensorId  - 1                         SensorId  - 2  \\\n",
       "3  007f2b03-94e6-47b3-9e3e-44273354acd5  007f2b03-94e6-47b3-9e3e-44273354acd5   \n",
       "4  007f2b03-94e6-47b3-9e3e-44273354acd5  007f2b03-94e6-47b3-9e3e-44273354acd5   \n",
       "5  007f2b03-94e6-47b3-9e3e-44273354acd5  007f2b03-94e6-47b3-9e3e-44273354acd5   \n",
       "\n",
       "                          SensorId  - 3  \n",
       "3  007f2b03-94e6-47b3-9e3e-44273354acd5  \n",
       "4  007f2b03-94e6-47b3-9e3e-44273354acd5  \n",
       "5  007f2b03-94e6-47b3-9e3e-44273354acd5  "
      ]
     },
     "execution_count": 33,
     "metadata": {},
     "output_type": "execute_result"
    }
   ],
   "source": [
    "df.head(3)"
   ]
  },
  {
   "cell_type": "markdown",
   "metadata": {},
   "source": [
    "## Data Cleaning"
   ]
  },
  {
   "cell_type": "code",
   "execution_count": 35,
   "metadata": {},
   "outputs": [],
   "source": [
    "df = df.drop(columns=['SensorId  - 1', 'SensorId  - 2', 'SensorId  - 3'])"
   ]
  },
  {
   "cell_type": "code",
   "execution_count": 42,
   "metadata": {},
   "outputs": [
    {
     "data": {
      "text/html": [
       "<div>\n",
       "<style scoped>\n",
       "    .dataframe tbody tr th:only-of-type {\n",
       "        vertical-align: middle;\n",
       "    }\n",
       "\n",
       "    .dataframe tbody tr th {\n",
       "        vertical-align: top;\n",
       "    }\n",
       "\n",
       "    .dataframe thead th {\n",
       "        text-align: right;\n",
       "    }\n",
       "</style>\n",
       "<table border=\"1\" class=\"dataframe\">\n",
       "  <thead>\n",
       "    <tr style=\"text-align: right;\">\n",
       "      <th></th>\n",
       "      <th>SensorId</th>\n",
       "      <th>Stamp</th>\n",
       "      <th>pm10</th>\n",
       "      <th>Hour</th>\n",
       "      <th>Month_Day_Calculation</th>\n",
       "      <th>pm10 - 1</th>\n",
       "      <th>pm10 - 2</th>\n",
       "      <th>pm10 - 3</th>\n",
       "    </tr>\n",
       "  </thead>\n",
       "  <tbody>\n",
       "    <tr>\n",
       "      <th>3</th>\n",
       "      <td>007f2b03-94e6-47b3-9e3e-44273354acd5</td>\n",
       "      <td>2023-01-01 00:45:00+00:00</td>\n",
       "      <td>68.0</td>\n",
       "      <td>0.75</td>\n",
       "      <td>1.032258</td>\n",
       "      <td>64.0</td>\n",
       "      <td>59.5</td>\n",
       "      <td>55.0</td>\n",
       "    </tr>\n",
       "    <tr>\n",
       "      <th>4</th>\n",
       "      <td>007f2b03-94e6-47b3-9e3e-44273354acd5</td>\n",
       "      <td>2023-01-01 01:00:00+00:00</td>\n",
       "      <td>65.0</td>\n",
       "      <td>1.00</td>\n",
       "      <td>1.032258</td>\n",
       "      <td>68.0</td>\n",
       "      <td>64.0</td>\n",
       "      <td>59.5</td>\n",
       "    </tr>\n",
       "    <tr>\n",
       "      <th>5</th>\n",
       "      <td>007f2b03-94e6-47b3-9e3e-44273354acd5</td>\n",
       "      <td>2023-01-01 01:15:00+00:00</td>\n",
       "      <td>54.0</td>\n",
       "      <td>1.25</td>\n",
       "      <td>1.032258</td>\n",
       "      <td>65.0</td>\n",
       "      <td>68.0</td>\n",
       "      <td>64.0</td>\n",
       "    </tr>\n",
       "    <tr>\n",
       "      <th>6</th>\n",
       "      <td>007f2b03-94e6-47b3-9e3e-44273354acd5</td>\n",
       "      <td>2023-01-01 01:30:00+00:00</td>\n",
       "      <td>55.0</td>\n",
       "      <td>1.50</td>\n",
       "      <td>1.032258</td>\n",
       "      <td>54.0</td>\n",
       "      <td>65.0</td>\n",
       "      <td>68.0</td>\n",
       "    </tr>\n",
       "    <tr>\n",
       "      <th>7</th>\n",
       "      <td>007f2b03-94e6-47b3-9e3e-44273354acd5</td>\n",
       "      <td>2023-01-01 01:45:00+00:00</td>\n",
       "      <td>56.0</td>\n",
       "      <td>1.75</td>\n",
       "      <td>1.032258</td>\n",
       "      <td>55.0</td>\n",
       "      <td>54.0</td>\n",
       "      <td>65.0</td>\n",
       "    </tr>\n",
       "    <tr>\n",
       "      <th>...</th>\n",
       "      <td>...</td>\n",
       "      <td>...</td>\n",
       "      <td>...</td>\n",
       "      <td>...</td>\n",
       "      <td>...</td>\n",
       "      <td>...</td>\n",
       "      <td>...</td>\n",
       "      <td>...</td>\n",
       "    </tr>\n",
       "    <tr>\n",
       "      <th>5217071</th>\n",
       "      <td>sensor_dev_8550_72</td>\n",
       "      <td>2024-11-19 13:45:00+00:00</td>\n",
       "      <td>0.0</td>\n",
       "      <td>13.75</td>\n",
       "      <td>11.633333</td>\n",
       "      <td>0.0</td>\n",
       "      <td>0.0</td>\n",
       "      <td>0.0</td>\n",
       "    </tr>\n",
       "    <tr>\n",
       "      <th>5217072</th>\n",
       "      <td>sensor_dev_8550_72</td>\n",
       "      <td>2024-11-19 14:00:00+00:00</td>\n",
       "      <td>0.0</td>\n",
       "      <td>14.00</td>\n",
       "      <td>11.633333</td>\n",
       "      <td>0.0</td>\n",
       "      <td>0.0</td>\n",
       "      <td>0.0</td>\n",
       "    </tr>\n",
       "    <tr>\n",
       "      <th>5217073</th>\n",
       "      <td>sensor_dev_8550_72</td>\n",
       "      <td>2024-11-19 14:15:00+00:00</td>\n",
       "      <td>0.0</td>\n",
       "      <td>14.25</td>\n",
       "      <td>11.633333</td>\n",
       "      <td>0.0</td>\n",
       "      <td>0.0</td>\n",
       "      <td>0.0</td>\n",
       "    </tr>\n",
       "    <tr>\n",
       "      <th>5217074</th>\n",
       "      <td>sensor_dev_8550_72</td>\n",
       "      <td>2024-11-19 14:30:00+00:00</td>\n",
       "      <td>0.0</td>\n",
       "      <td>14.50</td>\n",
       "      <td>11.633333</td>\n",
       "      <td>0.0</td>\n",
       "      <td>0.0</td>\n",
       "      <td>0.0</td>\n",
       "    </tr>\n",
       "    <tr>\n",
       "      <th>5217075</th>\n",
       "      <td>sensor_dev_8550_72</td>\n",
       "      <td>2024-11-19 14:45:00+00:00</td>\n",
       "      <td>0.0</td>\n",
       "      <td>14.75</td>\n",
       "      <td>11.633333</td>\n",
       "      <td>0.0</td>\n",
       "      <td>0.0</td>\n",
       "      <td>0.0</td>\n",
       "    </tr>\n",
       "  </tbody>\n",
       "</table>\n",
       "<p>5216641 rows × 8 columns</p>\n",
       "</div>"
      ],
      "text/plain": [
       "                                     SensorId                      Stamp  \\\n",
       "3        007f2b03-94e6-47b3-9e3e-44273354acd5  2023-01-01 00:45:00+00:00   \n",
       "4        007f2b03-94e6-47b3-9e3e-44273354acd5  2023-01-01 01:00:00+00:00   \n",
       "5        007f2b03-94e6-47b3-9e3e-44273354acd5  2023-01-01 01:15:00+00:00   \n",
       "6        007f2b03-94e6-47b3-9e3e-44273354acd5  2023-01-01 01:30:00+00:00   \n",
       "7        007f2b03-94e6-47b3-9e3e-44273354acd5  2023-01-01 01:45:00+00:00   \n",
       "...                                       ...                        ...   \n",
       "5217071                    sensor_dev_8550_72  2024-11-19 13:45:00+00:00   \n",
       "5217072                    sensor_dev_8550_72  2024-11-19 14:00:00+00:00   \n",
       "5217073                    sensor_dev_8550_72  2024-11-19 14:15:00+00:00   \n",
       "5217074                    sensor_dev_8550_72  2024-11-19 14:30:00+00:00   \n",
       "5217075                    sensor_dev_8550_72  2024-11-19 14:45:00+00:00   \n",
       "\n",
       "         pm10   Hour  Month_Day_Calculation  pm10 - 1  pm10 - 2  pm10 - 3  \n",
       "3        68.0   0.75               1.032258      64.0      59.5      55.0  \n",
       "4        65.0   1.00               1.032258      68.0      64.0      59.5  \n",
       "5        54.0   1.25               1.032258      65.0      68.0      64.0  \n",
       "6        55.0   1.50               1.032258      54.0      65.0      68.0  \n",
       "7        56.0   1.75               1.032258      55.0      54.0      65.0  \n",
       "...       ...    ...                    ...       ...       ...       ...  \n",
       "5217071   0.0  13.75              11.633333       0.0       0.0       0.0  \n",
       "5217072   0.0  14.00              11.633333       0.0       0.0       0.0  \n",
       "5217073   0.0  14.25              11.633333       0.0       0.0       0.0  \n",
       "5217074   0.0  14.50              11.633333       0.0       0.0       0.0  \n",
       "5217075   0.0  14.75              11.633333       0.0       0.0       0.0  \n",
       "\n",
       "[5216641 rows x 8 columns]"
      ]
     },
     "execution_count": 42,
     "metadata": {},
     "output_type": "execute_result"
    }
   ],
   "source": [
    "df"
   ]
  },
  {
   "cell_type": "markdown",
   "metadata": {},
   "source": [
    "---\n",
    "# Save the new dataframe"
   ]
  },
  {
   "cell_type": "code",
   "execution_count": 43,
   "metadata": {},
   "outputs": [],
   "source": [
    "df.to_csv('../data/interpolated_without_nearest.csv', index=False)"
   ]
  }
 ],
 "metadata": {
  "kernelspec": {
   "display_name": "base",
   "language": "python",
   "name": "python3"
  },
  "language_info": {
   "codemirror_mode": {
    "name": "ipython",
    "version": 3
   },
   "file_extension": ".py",
   "mimetype": "text/x-python",
   "name": "python",
   "nbconvert_exporter": "python",
   "pygments_lexer": "ipython3",
   "version": "3.10.9"
  }
 },
 "nbformat": 4,
 "nbformat_minor": 2
}
