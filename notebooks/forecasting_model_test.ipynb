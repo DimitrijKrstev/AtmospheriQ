{
 "cells": [
  {
   "cell_type": "markdown",
   "metadata": {
    "vscode": {
     "languageId": "plaintext"
    }
   },
   "source": [
    "---\n",
    "# Imports"
   ]
  },
  {
   "cell_type": "code",
   "execution_count": 1,
   "metadata": {},
   "outputs": [],
   "source": [
    "import pandas as pd\n",
    "import numpy as np\n",
    "\n",
    "from sklearn.model_selection import cross_val_score, TimeSeriesSplit\n",
    "\n",
    "from sklearn.preprocessing import MinMaxScaler\n",
    "from sklearn.linear_model import LinearRegression, Lasso, Ridge, ElasticNet\n",
    "from sklearn.ensemble import RandomForestRegressor\n",
    "from sklearn.kernel_ridge import KernelRidge\n",
    "from xgboost import XGBRegressor\n",
    "from sklearn.pipeline import Pipeline, make_pipeline\n",
    "\n",
    "from sklearn.metrics import mean_squared_error, r2_score, mean_absolute_percentage_error"
   ]
  },
  {
   "cell_type": "markdown",
   "metadata": {},
   "source": [
    "---\n",
    "# Load the data"
   ]
  },
  {
   "cell_type": "code",
   "execution_count": 2,
   "metadata": {},
   "outputs": [
    {
     "name": "stderr",
     "output_type": "stream",
     "text": [
      "C:\\Users\\Nikola\\AppData\\Local\\Temp\\ipykernel_18652\\2052590027.py:1: DtypeWarning: Columns (0) have mixed types. Specify dtype option on import or set low_memory=False.\n",
      "  df = pd.read_csv('../data/interpolated_without_nearest.csv')\n"
     ]
    }
   ],
   "source": [
    "df = pd.read_csv('../data/interpolated_without_nearest.csv')"
   ]
  },
  {
   "cell_type": "code",
   "execution_count": 3,
   "metadata": {},
   "outputs": [
    {
     "data": {
      "text/html": [
       "<div>\n",
       "<style scoped>\n",
       "    .dataframe tbody tr th:only-of-type {\n",
       "        vertical-align: middle;\n",
       "    }\n",
       "\n",
       "    .dataframe tbody tr th {\n",
       "        vertical-align: top;\n",
       "    }\n",
       "\n",
       "    .dataframe thead th {\n",
       "        text-align: right;\n",
       "    }\n",
       "</style>\n",
       "<table border=\"1\" class=\"dataframe\">\n",
       "  <thead>\n",
       "    <tr style=\"text-align: right;\">\n",
       "      <th></th>\n",
       "      <th>SensorId</th>\n",
       "      <th>Stamp</th>\n",
       "      <th>pm10</th>\n",
       "      <th>Hour</th>\n",
       "      <th>Month_Day_Calculation</th>\n",
       "      <th>pm10 - 1</th>\n",
       "      <th>pm10 - 2</th>\n",
       "      <th>pm10 - 3</th>\n",
       "    </tr>\n",
       "  </thead>\n",
       "  <tbody>\n",
       "    <tr>\n",
       "      <th>0</th>\n",
       "      <td>007f2b03-94e6-47b3-9e3e-44273354acd5</td>\n",
       "      <td>2023-01-01 00:45:00+00:00</td>\n",
       "      <td>68.0</td>\n",
       "      <td>0.75</td>\n",
       "      <td>1.032258</td>\n",
       "      <td>64.0</td>\n",
       "      <td>59.5</td>\n",
       "      <td>55.0</td>\n",
       "    </tr>\n",
       "    <tr>\n",
       "      <th>1</th>\n",
       "      <td>007f2b03-94e6-47b3-9e3e-44273354acd5</td>\n",
       "      <td>2023-01-01 01:00:00+00:00</td>\n",
       "      <td>65.0</td>\n",
       "      <td>1.00</td>\n",
       "      <td>1.032258</td>\n",
       "      <td>68.0</td>\n",
       "      <td>64.0</td>\n",
       "      <td>59.5</td>\n",
       "    </tr>\n",
       "    <tr>\n",
       "      <th>2</th>\n",
       "      <td>007f2b03-94e6-47b3-9e3e-44273354acd5</td>\n",
       "      <td>2023-01-01 01:15:00+00:00</td>\n",
       "      <td>54.0</td>\n",
       "      <td>1.25</td>\n",
       "      <td>1.032258</td>\n",
       "      <td>65.0</td>\n",
       "      <td>68.0</td>\n",
       "      <td>64.0</td>\n",
       "    </tr>\n",
       "  </tbody>\n",
       "</table>\n",
       "</div>"
      ],
      "text/plain": [
       "                               SensorId                      Stamp  pm10  \\\n",
       "0  007f2b03-94e6-47b3-9e3e-44273354acd5  2023-01-01 00:45:00+00:00  68.0   \n",
       "1  007f2b03-94e6-47b3-9e3e-44273354acd5  2023-01-01 01:00:00+00:00  65.0   \n",
       "2  007f2b03-94e6-47b3-9e3e-44273354acd5  2023-01-01 01:15:00+00:00  54.0   \n",
       "\n",
       "   Hour  Month_Day_Calculation  pm10 - 1  pm10 - 2  pm10 - 3  \n",
       "0  0.75               1.032258      64.0      59.5      55.0  \n",
       "1  1.00               1.032258      68.0      64.0      59.5  \n",
       "2  1.25               1.032258      65.0      68.0      64.0  "
      ]
     },
     "execution_count": 3,
     "metadata": {},
     "output_type": "execute_result"
    }
   ],
   "source": [
    "df.head(3)"
   ]
  },
  {
   "cell_type": "code",
   "execution_count": 4,
   "metadata": {},
   "outputs": [
    {
     "name": "stdout",
     "output_type": "stream",
     "text": [
      "<class 'pandas.core.frame.DataFrame'>\n",
      "RangeIndex: 5216641 entries, 0 to 5216640\n",
      "Data columns (total 8 columns):\n",
      " #   Column                 Dtype  \n",
      "---  ------                 -----  \n",
      " 0   SensorId               object \n",
      " 1   Stamp                  object \n",
      " 2   pm10                   float64\n",
      " 3   Hour                   float64\n",
      " 4   Month_Day_Calculation  float64\n",
      " 5   pm10 - 1               float64\n",
      " 6   pm10 - 2               float64\n",
      " 7   pm10 - 3               float64\n",
      "dtypes: float64(6), object(2)\n",
      "memory usage: 318.4+ MB\n"
     ]
    }
   ],
   "source": [
    "df.info()"
   ]
  },
  {
   "cell_type": "markdown",
   "metadata": {},
   "source": [
    "---\n",
    "# Data Preparation"
   ]
  },
  {
   "cell_type": "markdown",
   "metadata": {},
   "source": [
    "## Sort for proper time series split"
   ]
  },
  {
   "cell_type": "code",
   "execution_count": 5,
   "metadata": {},
   "outputs": [],
   "source": [
    "df = df.sort_values(by='Stamp')\n",
    "df.reset_index(drop=True, inplace=True)"
   ]
  },
  {
   "cell_type": "code",
   "execution_count": 6,
   "metadata": {},
   "outputs": [
    {
     "data": {
      "text/html": [
       "<div>\n",
       "<style scoped>\n",
       "    .dataframe tbody tr th:only-of-type {\n",
       "        vertical-align: middle;\n",
       "    }\n",
       "\n",
       "    .dataframe tbody tr th {\n",
       "        vertical-align: top;\n",
       "    }\n",
       "\n",
       "    .dataframe thead th {\n",
       "        text-align: right;\n",
       "    }\n",
       "</style>\n",
       "<table border=\"1\" class=\"dataframe\">\n",
       "  <thead>\n",
       "    <tr style=\"text-align: right;\">\n",
       "      <th></th>\n",
       "      <th>SensorId</th>\n",
       "      <th>Stamp</th>\n",
       "      <th>pm10</th>\n",
       "      <th>Hour</th>\n",
       "      <th>Month_Day_Calculation</th>\n",
       "      <th>pm10 - 1</th>\n",
       "      <th>pm10 - 2</th>\n",
       "      <th>pm10 - 3</th>\n",
       "    </tr>\n",
       "  </thead>\n",
       "  <tbody>\n",
       "    <tr>\n",
       "      <th>0</th>\n",
       "      <td>007f2b03-94e6-47b3-9e3e-44273354acd5</td>\n",
       "      <td>2023-01-01 00:45:00+00:00</td>\n",
       "      <td>68.00</td>\n",
       "      <td>0.75</td>\n",
       "      <td>1.032258</td>\n",
       "      <td>64.0</td>\n",
       "      <td>59.50</td>\n",
       "      <td>55.0</td>\n",
       "    </tr>\n",
       "    <tr>\n",
       "      <th>1</th>\n",
       "      <td>8defa36a-62ca-448a-9ffb-5a2848c2dfa0</td>\n",
       "      <td>2023-01-01 00:45:00+00:00</td>\n",
       "      <td>122.00</td>\n",
       "      <td>0.75</td>\n",
       "      <td>1.032258</td>\n",
       "      <td>142.0</td>\n",
       "      <td>110.00</td>\n",
       "      <td>127.0</td>\n",
       "    </tr>\n",
       "    <tr>\n",
       "      <th>2</th>\n",
       "      <td>60aa65c6-b7c4-4aae-8769-5dbcba356b5d</td>\n",
       "      <td>2023-01-01 00:45:00+00:00</td>\n",
       "      <td>295.00</td>\n",
       "      <td>0.75</td>\n",
       "      <td>1.032258</td>\n",
       "      <td>281.0</td>\n",
       "      <td>381.00</td>\n",
       "      <td>259.0</td>\n",
       "    </tr>\n",
       "    <tr>\n",
       "      <th>3</th>\n",
       "      <td>6380c7cc-df23-4512-ad10-f2b363000579</td>\n",
       "      <td>2023-01-01 00:45:00+00:00</td>\n",
       "      <td>89.00</td>\n",
       "      <td>0.75</td>\n",
       "      <td>1.032258</td>\n",
       "      <td>90.0</td>\n",
       "      <td>79.00</td>\n",
       "      <td>117.0</td>\n",
       "    </tr>\n",
       "    <tr>\n",
       "      <th>4</th>\n",
       "      <td>1003</td>\n",
       "      <td>2023-01-01 00:45:00+00:00</td>\n",
       "      <td>81.75</td>\n",
       "      <td>0.75</td>\n",
       "      <td>1.032258</td>\n",
       "      <td>79.5</td>\n",
       "      <td>77.25</td>\n",
       "      <td>75.0</td>\n",
       "    </tr>\n",
       "    <tr>\n",
       "      <th>...</th>\n",
       "      <td>...</td>\n",
       "      <td>...</td>\n",
       "      <td>...</td>\n",
       "      <td>...</td>\n",
       "      <td>...</td>\n",
       "      <td>...</td>\n",
       "      <td>...</td>\n",
       "      <td>...</td>\n",
       "    </tr>\n",
       "    <tr>\n",
       "      <th>5216636</th>\n",
       "      <td>996a42d1-c6a3-4ec1-b879-bae2a55b7777</td>\n",
       "      <td>2024-11-21 23:00:00+00:00</td>\n",
       "      <td>19.00</td>\n",
       "      <td>23.00</td>\n",
       "      <td>11.700000</td>\n",
       "      <td>17.0</td>\n",
       "      <td>20.00</td>\n",
       "      <td>18.0</td>\n",
       "    </tr>\n",
       "    <tr>\n",
       "      <th>5216637</th>\n",
       "      <td>0f241923-b5b5-4c4a-bf08-279b9e3a8540</td>\n",
       "      <td>2024-11-21 23:00:00+00:00</td>\n",
       "      <td>41.00</td>\n",
       "      <td>23.00</td>\n",
       "      <td>11.700000</td>\n",
       "      <td>35.0</td>\n",
       "      <td>31.00</td>\n",
       "      <td>49.0</td>\n",
       "    </tr>\n",
       "    <tr>\n",
       "      <th>5216638</th>\n",
       "      <td>sensor_dev_84687_383</td>\n",
       "      <td>2024-11-21 23:00:00+00:00</td>\n",
       "      <td>18.00</td>\n",
       "      <td>23.00</td>\n",
       "      <td>11.700000</td>\n",
       "      <td>14.0</td>\n",
       "      <td>11.00</td>\n",
       "      <td>21.0</td>\n",
       "    </tr>\n",
       "    <tr>\n",
       "      <th>5216639</th>\n",
       "      <td>sensor_dev_78432_137</td>\n",
       "      <td>2024-11-21 23:00:00+00:00</td>\n",
       "      <td>33.00</td>\n",
       "      <td>23.00</td>\n",
       "      <td>11.700000</td>\n",
       "      <td>29.0</td>\n",
       "      <td>30.00</td>\n",
       "      <td>24.0</td>\n",
       "    </tr>\n",
       "    <tr>\n",
       "      <th>5216640</th>\n",
       "      <td>sensor_dev_82707_917</td>\n",
       "      <td>2024-11-21 23:00:00+00:00</td>\n",
       "      <td>65.00</td>\n",
       "      <td>23.00</td>\n",
       "      <td>11.700000</td>\n",
       "      <td>65.0</td>\n",
       "      <td>65.00</td>\n",
       "      <td>64.0</td>\n",
       "    </tr>\n",
       "  </tbody>\n",
       "</table>\n",
       "<p>5216641 rows × 8 columns</p>\n",
       "</div>"
      ],
      "text/plain": [
       "                                     SensorId                      Stamp  \\\n",
       "0        007f2b03-94e6-47b3-9e3e-44273354acd5  2023-01-01 00:45:00+00:00   \n",
       "1        8defa36a-62ca-448a-9ffb-5a2848c2dfa0  2023-01-01 00:45:00+00:00   \n",
       "2        60aa65c6-b7c4-4aae-8769-5dbcba356b5d  2023-01-01 00:45:00+00:00   \n",
       "3        6380c7cc-df23-4512-ad10-f2b363000579  2023-01-01 00:45:00+00:00   \n",
       "4                                        1003  2023-01-01 00:45:00+00:00   \n",
       "...                                       ...                        ...   \n",
       "5216636  996a42d1-c6a3-4ec1-b879-bae2a55b7777  2024-11-21 23:00:00+00:00   \n",
       "5216637  0f241923-b5b5-4c4a-bf08-279b9e3a8540  2024-11-21 23:00:00+00:00   \n",
       "5216638                  sensor_dev_84687_383  2024-11-21 23:00:00+00:00   \n",
       "5216639                  sensor_dev_78432_137  2024-11-21 23:00:00+00:00   \n",
       "5216640                  sensor_dev_82707_917  2024-11-21 23:00:00+00:00   \n",
       "\n",
       "           pm10   Hour  Month_Day_Calculation  pm10 - 1  pm10 - 2  pm10 - 3  \n",
       "0         68.00   0.75               1.032258      64.0     59.50      55.0  \n",
       "1        122.00   0.75               1.032258     142.0    110.00     127.0  \n",
       "2        295.00   0.75               1.032258     281.0    381.00     259.0  \n",
       "3         89.00   0.75               1.032258      90.0     79.00     117.0  \n",
       "4         81.75   0.75               1.032258      79.5     77.25      75.0  \n",
       "...         ...    ...                    ...       ...       ...       ...  \n",
       "5216636   19.00  23.00              11.700000      17.0     20.00      18.0  \n",
       "5216637   41.00  23.00              11.700000      35.0     31.00      49.0  \n",
       "5216638   18.00  23.00              11.700000      14.0     11.00      21.0  \n",
       "5216639   33.00  23.00              11.700000      29.0     30.00      24.0  \n",
       "5216640   65.00  23.00              11.700000      65.0     65.00      64.0  \n",
       "\n",
       "[5216641 rows x 8 columns]"
      ]
     },
     "execution_count": 6,
     "metadata": {},
     "output_type": "execute_result"
    }
   ],
   "source": [
    "df"
   ]
  },
  {
   "cell_type": "markdown",
   "metadata": {},
   "source": [
    "## Splitting the data"
   ]
  },
  {
   "cell_type": "code",
   "execution_count": 7,
   "metadata": {},
   "outputs": [],
   "source": [
    "df.drop(columns=['SensorId', 'Stamp'], inplace=True)"
   ]
  },
  {
   "cell_type": "code",
   "execution_count": 8,
   "metadata": {},
   "outputs": [],
   "source": [
    "X = df.drop(columns=['pm10'])\n",
    "y = df['pm10']"
   ]
  },
  {
   "cell_type": "markdown",
   "metadata": {},
   "source": [
    "---\n",
    "# Testing"
   ]
  },
  {
   "cell_type": "code",
   "execution_count": 9,
   "metadata": {},
   "outputs": [],
   "source": [
    "pipeline = Pipeline([\n",
    "    ('scaler', MinMaxScaler()),\n",
    "    ('model', LinearRegression())\n",
    "])"
   ]
  },
  {
   "cell_type": "code",
   "execution_count": 10,
   "metadata": {},
   "outputs": [],
   "source": [
    "cv = TimeSeriesSplit(n_splits=5)"
   ]
  },
  {
   "cell_type": "code",
   "execution_count": 11,
   "metadata": {},
   "outputs": [
    {
     "name": "stdout",
     "output_type": "stream",
     "text": [
      "Root mean squared error: 14.618911683897727 +/- 3.7776881887815565\n",
      "R2: 0.9823543467539053 +/- 0.007808075569609987\n"
     ]
    }
   ],
   "source": [
    "root_scores = cross_val_score(pipeline, X, y, cv=cv, scoring='neg_root_mean_squared_error')\n",
    "r2_scores = cross_val_score(pipeline, X, y, cv=cv, scoring='r2')\n",
    "\n",
    "print(f'Root mean squared error: {np.mean(-root_scores)} +/- {np.std(-root_scores)}')\n",
    "print(f'R2: {np.mean(r2_scores)} +/- {np.std(r2_scores)}')"
   ]
  },
  {
   "cell_type": "markdown",
   "metadata": {},
   "source": [
    "---\n",
    "# Total Dataset Test"
   ]
  },
  {
   "cell_type": "code",
   "execution_count": 12,
   "metadata": {},
   "outputs": [],
   "source": [
    "X_train, X_test = X.iloc[:int(0.8*len(X))], X.iloc[int(0.8*len(X)):]\n",
    "y_train, y_test = y.iloc[:int(0.8*len(y))], y.iloc[int(0.8*len(y)):]"
   ]
  },
  {
   "cell_type": "code",
   "execution_count": 13,
   "metadata": {},
   "outputs": [
    {
     "data": {
      "text/html": [
       "<style>#sk-container-id-1 {color: black;background-color: white;}#sk-container-id-1 pre{padding: 0;}#sk-container-id-1 div.sk-toggleable {background-color: white;}#sk-container-id-1 label.sk-toggleable__label {cursor: pointer;display: block;width: 100%;margin-bottom: 0;padding: 0.3em;box-sizing: border-box;text-align: center;}#sk-container-id-1 label.sk-toggleable__label-arrow:before {content: \"▸\";float: left;margin-right: 0.25em;color: #696969;}#sk-container-id-1 label.sk-toggleable__label-arrow:hover:before {color: black;}#sk-container-id-1 div.sk-estimator:hover label.sk-toggleable__label-arrow:before {color: black;}#sk-container-id-1 div.sk-toggleable__content {max-height: 0;max-width: 0;overflow: hidden;text-align: left;background-color: #f0f8ff;}#sk-container-id-1 div.sk-toggleable__content pre {margin: 0.2em;color: black;border-radius: 0.25em;background-color: #f0f8ff;}#sk-container-id-1 input.sk-toggleable__control:checked~div.sk-toggleable__content {max-height: 200px;max-width: 100%;overflow: auto;}#sk-container-id-1 input.sk-toggleable__control:checked~label.sk-toggleable__label-arrow:before {content: \"▾\";}#sk-container-id-1 div.sk-estimator input.sk-toggleable__control:checked~label.sk-toggleable__label {background-color: #d4ebff;}#sk-container-id-1 div.sk-label input.sk-toggleable__control:checked~label.sk-toggleable__label {background-color: #d4ebff;}#sk-container-id-1 input.sk-hidden--visually {border: 0;clip: rect(1px 1px 1px 1px);clip: rect(1px, 1px, 1px, 1px);height: 1px;margin: -1px;overflow: hidden;padding: 0;position: absolute;width: 1px;}#sk-container-id-1 div.sk-estimator {font-family: monospace;background-color: #f0f8ff;border: 1px dotted black;border-radius: 0.25em;box-sizing: border-box;margin-bottom: 0.5em;}#sk-container-id-1 div.sk-estimator:hover {background-color: #d4ebff;}#sk-container-id-1 div.sk-parallel-item::after {content: \"\";width: 100%;border-bottom: 1px solid gray;flex-grow: 1;}#sk-container-id-1 div.sk-label:hover label.sk-toggleable__label {background-color: #d4ebff;}#sk-container-id-1 div.sk-serial::before {content: \"\";position: absolute;border-left: 1px solid gray;box-sizing: border-box;top: 0;bottom: 0;left: 50%;z-index: 0;}#sk-container-id-1 div.sk-serial {display: flex;flex-direction: column;align-items: center;background-color: white;padding-right: 0.2em;padding-left: 0.2em;position: relative;}#sk-container-id-1 div.sk-item {position: relative;z-index: 1;}#sk-container-id-1 div.sk-parallel {display: flex;align-items: stretch;justify-content: center;background-color: white;position: relative;}#sk-container-id-1 div.sk-item::before, #sk-container-id-1 div.sk-parallel-item::before {content: \"\";position: absolute;border-left: 1px solid gray;box-sizing: border-box;top: 0;bottom: 0;left: 50%;z-index: -1;}#sk-container-id-1 div.sk-parallel-item {display: flex;flex-direction: column;z-index: 1;position: relative;background-color: white;}#sk-container-id-1 div.sk-parallel-item:first-child::after {align-self: flex-end;width: 50%;}#sk-container-id-1 div.sk-parallel-item:last-child::after {align-self: flex-start;width: 50%;}#sk-container-id-1 div.sk-parallel-item:only-child::after {width: 0;}#sk-container-id-1 div.sk-dashed-wrapped {border: 1px dashed gray;margin: 0 0.4em 0.5em 0.4em;box-sizing: border-box;padding-bottom: 0.4em;background-color: white;}#sk-container-id-1 div.sk-label label {font-family: monospace;font-weight: bold;display: inline-block;line-height: 1.2em;}#sk-container-id-1 div.sk-label-container {text-align: center;}#sk-container-id-1 div.sk-container {/* jupyter's `normalize.less` sets `[hidden] { display: none; }` but bootstrap.min.css set `[hidden] { display: none !important; }` so we also need the `!important` here to be able to override the default hidden behavior on the sphinx rendered scikit-learn.org. See: https://github.com/scikit-learn/scikit-learn/issues/21755 */display: inline-block !important;position: relative;}#sk-container-id-1 div.sk-text-repr-fallback {display: none;}</style><div id=\"sk-container-id-1\" class=\"sk-top-container\"><div class=\"sk-text-repr-fallback\"><pre>Pipeline(steps=[(&#x27;scaler&#x27;, MinMaxScaler()), (&#x27;model&#x27;, LinearRegression())])</pre><b>In a Jupyter environment, please rerun this cell to show the HTML representation or trust the notebook. <br />On GitHub, the HTML representation is unable to render, please try loading this page with nbviewer.org.</b></div><div class=\"sk-container\" hidden><div class=\"sk-item sk-dashed-wrapped\"><div class=\"sk-label-container\"><div class=\"sk-label sk-toggleable\"><input class=\"sk-toggleable__control sk-hidden--visually\" id=\"sk-estimator-id-1\" type=\"checkbox\" ><label for=\"sk-estimator-id-1\" class=\"sk-toggleable__label sk-toggleable__label-arrow\">Pipeline</label><div class=\"sk-toggleable__content\"><pre>Pipeline(steps=[(&#x27;scaler&#x27;, MinMaxScaler()), (&#x27;model&#x27;, LinearRegression())])</pre></div></div></div><div class=\"sk-serial\"><div class=\"sk-item\"><div class=\"sk-estimator sk-toggleable\"><input class=\"sk-toggleable__control sk-hidden--visually\" id=\"sk-estimator-id-2\" type=\"checkbox\" ><label for=\"sk-estimator-id-2\" class=\"sk-toggleable__label sk-toggleable__label-arrow\">MinMaxScaler</label><div class=\"sk-toggleable__content\"><pre>MinMaxScaler()</pre></div></div></div><div class=\"sk-item\"><div class=\"sk-estimator sk-toggleable\"><input class=\"sk-toggleable__control sk-hidden--visually\" id=\"sk-estimator-id-3\" type=\"checkbox\" ><label for=\"sk-estimator-id-3\" class=\"sk-toggleable__label sk-toggleable__label-arrow\">LinearRegression</label><div class=\"sk-toggleable__content\"><pre>LinearRegression()</pre></div></div></div></div></div></div></div>"
      ],
      "text/plain": [
       "Pipeline(steps=[('scaler', MinMaxScaler()), ('model', LinearRegression())])"
      ]
     },
     "execution_count": 13,
     "metadata": {},
     "output_type": "execute_result"
    }
   ],
   "source": [
    "new_pipeline = Pipeline([\n",
    "    ('scaler', MinMaxScaler()),\n",
    "    ('model', LinearRegression())\n",
    "])\n",
    "new_pipeline.fit(X_train, y_train)"
   ]
  },
  {
   "cell_type": "code",
   "execution_count": 14,
   "metadata": {},
   "outputs": [
    {
     "name": "stdout",
     "output_type": "stream",
     "text": [
      "R2: 0.984823798692776\n",
      "Root mean squared error: 13.059254328022568\n"
     ]
    }
   ],
   "source": [
    "print('R2:', r2_score(y_test, new_pipeline.predict(X_test)))\n",
    "print('Root mean squared error:', np.sqrt(mean_squared_error(y_test, new_pipeline.predict(X_test))))"
   ]
  },
  {
   "cell_type": "code",
   "execution_count": 15,
   "metadata": {},
   "outputs": [
    {
     "name": "stdout",
     "output_type": "stream",
     "text": [
      "Baseline R2 Score: 0.982012205819207\n",
      "Baseline RMSE Score: 14.217583753697408\n"
     ]
    }
   ],
   "source": [
    "print(f'Baseline R2 Score: {r2_score(y_test, X_test[\"pm10 - 1\"])}')\n",
    "print(f'Baseline RMSE Score: {np.sqrt(mean_squared_error(y_test, X_test[\"pm10 - 1\"]))}')"
   ]
  },
  {
   "cell_type": "code",
   "execution_count": 16,
   "metadata": {},
   "outputs": [],
   "source": [
    "old = 14.217583753697408\n",
    "new = 13.059254328022568\n",
    "\n",
    "im_f = (old - new) / old"
   ]
  },
  {
   "cell_type": "code",
   "execution_count": 17,
   "metadata": {},
   "outputs": [
    {
     "name": "stdout",
     "output_type": "stream",
     "text": [
      "Improvement: 8.15\n"
     ]
    }
   ],
   "source": [
    "print(f'Improvement: {np.round(im_f * 100, 2)}') "
   ]
  },
  {
   "cell_type": "markdown",
   "metadata": {},
   "source": [
    "---\n",
    "# Long Term Prediction"
   ]
  },
  {
   "cell_type": "code",
   "execution_count": 18,
   "metadata": {},
   "outputs": [
    {
     "name": "stderr",
     "output_type": "stream",
     "text": [
      "C:\\Users\\Nikola\\AppData\\Local\\Temp\\ipykernel_18652\\4267488086.py:1: DtypeWarning: Columns (0) have mixed types. Specify dtype option on import or set low_memory=False.\n",
      "  new_df = pd.read_csv('../data/interpolated_without_nearest.csv')\n"
     ]
    }
   ],
   "source": [
    "new_df = pd.read_csv('../data/interpolated_without_nearest.csv')\n",
    "\n",
    "new_df.dropna(inplace=True)"
   ]
  },
  {
   "cell_type": "code",
   "execution_count": 19,
   "metadata": {},
   "outputs": [
    {
     "data": {
      "text/html": [
       "<div>\n",
       "<style scoped>\n",
       "    .dataframe tbody tr th:only-of-type {\n",
       "        vertical-align: middle;\n",
       "    }\n",
       "\n",
       "    .dataframe tbody tr th {\n",
       "        vertical-align: top;\n",
       "    }\n",
       "\n",
       "    .dataframe thead th {\n",
       "        text-align: right;\n",
       "    }\n",
       "</style>\n",
       "<table border=\"1\" class=\"dataframe\">\n",
       "  <thead>\n",
       "    <tr style=\"text-align: right;\">\n",
       "      <th></th>\n",
       "      <th>SensorId</th>\n",
       "      <th>Stamp</th>\n",
       "      <th>pm10</th>\n",
       "      <th>Hour</th>\n",
       "      <th>Month_Day_Calculation</th>\n",
       "      <th>pm10 - 1</th>\n",
       "      <th>pm10 - 2</th>\n",
       "      <th>pm10 - 3</th>\n",
       "    </tr>\n",
       "  </thead>\n",
       "  <tbody>\n",
       "    <tr>\n",
       "      <th>0</th>\n",
       "      <td>007f2b03-94e6-47b3-9e3e-44273354acd5</td>\n",
       "      <td>2023-01-01 00:45:00+00:00</td>\n",
       "      <td>68.0</td>\n",
       "      <td>0.75</td>\n",
       "      <td>1.032258</td>\n",
       "      <td>64.0</td>\n",
       "      <td>59.5</td>\n",
       "      <td>55.0</td>\n",
       "    </tr>\n",
       "    <tr>\n",
       "      <th>1</th>\n",
       "      <td>007f2b03-94e6-47b3-9e3e-44273354acd5</td>\n",
       "      <td>2023-01-01 01:00:00+00:00</td>\n",
       "      <td>65.0</td>\n",
       "      <td>1.00</td>\n",
       "      <td>1.032258</td>\n",
       "      <td>68.0</td>\n",
       "      <td>64.0</td>\n",
       "      <td>59.5</td>\n",
       "    </tr>\n",
       "    <tr>\n",
       "      <th>2</th>\n",
       "      <td>007f2b03-94e6-47b3-9e3e-44273354acd5</td>\n",
       "      <td>2023-01-01 01:15:00+00:00</td>\n",
       "      <td>54.0</td>\n",
       "      <td>1.25</td>\n",
       "      <td>1.032258</td>\n",
       "      <td>65.0</td>\n",
       "      <td>68.0</td>\n",
       "      <td>64.0</td>\n",
       "    </tr>\n",
       "  </tbody>\n",
       "</table>\n",
       "</div>"
      ],
      "text/plain": [
       "                               SensorId                      Stamp  pm10  \\\n",
       "0  007f2b03-94e6-47b3-9e3e-44273354acd5  2023-01-01 00:45:00+00:00  68.0   \n",
       "1  007f2b03-94e6-47b3-9e3e-44273354acd5  2023-01-01 01:00:00+00:00  65.0   \n",
       "2  007f2b03-94e6-47b3-9e3e-44273354acd5  2023-01-01 01:15:00+00:00  54.0   \n",
       "\n",
       "   Hour  Month_Day_Calculation  pm10 - 1  pm10 - 2  pm10 - 3  \n",
       "0  0.75               1.032258      64.0      59.5      55.0  \n",
       "1  1.00               1.032258      68.0      64.0      59.5  \n",
       "2  1.25               1.032258      65.0      68.0      64.0  "
      ]
     },
     "execution_count": 19,
     "metadata": {},
     "output_type": "execute_result"
    }
   ],
   "source": [
    "new_df.head(3)"
   ]
  },
  {
   "cell_type": "code",
   "execution_count": 20,
   "metadata": {},
   "outputs": [],
   "source": [
    "new_df = new_df[new_df['SensorId'] == '007f2b03-94e6-47b3-9e3e-44273354acd5']"
   ]
  },
  {
   "cell_type": "code",
   "execution_count": 21,
   "metadata": {},
   "outputs": [],
   "source": [
    "new_df['Stamp'] = pd.to_datetime(new_df['Stamp'], utc=True)"
   ]
  },
  {
   "cell_type": "code",
   "execution_count": 22,
   "metadata": {},
   "outputs": [
    {
     "data": {
      "text/html": [
       "<div>\n",
       "<style scoped>\n",
       "    .dataframe tbody tr th:only-of-type {\n",
       "        vertical-align: middle;\n",
       "    }\n",
       "\n",
       "    .dataframe tbody tr th {\n",
       "        vertical-align: top;\n",
       "    }\n",
       "\n",
       "    .dataframe thead th {\n",
       "        text-align: right;\n",
       "    }\n",
       "</style>\n",
       "<table border=\"1\" class=\"dataframe\">\n",
       "  <thead>\n",
       "    <tr style=\"text-align: right;\">\n",
       "      <th></th>\n",
       "      <th>SensorId</th>\n",
       "      <th>Stamp</th>\n",
       "      <th>pm10</th>\n",
       "      <th>Hour</th>\n",
       "      <th>Month_Day_Calculation</th>\n",
       "      <th>pm10 - 1</th>\n",
       "      <th>pm10 - 2</th>\n",
       "      <th>pm10 - 3</th>\n",
       "    </tr>\n",
       "  </thead>\n",
       "  <tbody>\n",
       "    <tr>\n",
       "      <th>0</th>\n",
       "      <td>007f2b03-94e6-47b3-9e3e-44273354acd5</td>\n",
       "      <td>2023-01-01 00:45:00+00:00</td>\n",
       "      <td>68.0</td>\n",
       "      <td>0.75</td>\n",
       "      <td>1.032258</td>\n",
       "      <td>64.0</td>\n",
       "      <td>59.5</td>\n",
       "      <td>55.0</td>\n",
       "    </tr>\n",
       "    <tr>\n",
       "      <th>1</th>\n",
       "      <td>007f2b03-94e6-47b3-9e3e-44273354acd5</td>\n",
       "      <td>2023-01-01 01:00:00+00:00</td>\n",
       "      <td>65.0</td>\n",
       "      <td>1.00</td>\n",
       "      <td>1.032258</td>\n",
       "      <td>68.0</td>\n",
       "      <td>64.0</td>\n",
       "      <td>59.5</td>\n",
       "    </tr>\n",
       "    <tr>\n",
       "      <th>2</th>\n",
       "      <td>007f2b03-94e6-47b3-9e3e-44273354acd5</td>\n",
       "      <td>2023-01-01 01:15:00+00:00</td>\n",
       "      <td>54.0</td>\n",
       "      <td>1.25</td>\n",
       "      <td>1.032258</td>\n",
       "      <td>65.0</td>\n",
       "      <td>68.0</td>\n",
       "      <td>64.0</td>\n",
       "    </tr>\n",
       "    <tr>\n",
       "      <th>3</th>\n",
       "      <td>007f2b03-94e6-47b3-9e3e-44273354acd5</td>\n",
       "      <td>2023-01-01 01:30:00+00:00</td>\n",
       "      <td>55.0</td>\n",
       "      <td>1.50</td>\n",
       "      <td>1.032258</td>\n",
       "      <td>54.0</td>\n",
       "      <td>65.0</td>\n",
       "      <td>68.0</td>\n",
       "    </tr>\n",
       "    <tr>\n",
       "      <th>4</th>\n",
       "      <td>007f2b03-94e6-47b3-9e3e-44273354acd5</td>\n",
       "      <td>2023-01-01 01:45:00+00:00</td>\n",
       "      <td>56.0</td>\n",
       "      <td>1.75</td>\n",
       "      <td>1.032258</td>\n",
       "      <td>55.0</td>\n",
       "      <td>54.0</td>\n",
       "      <td>65.0</td>\n",
       "    </tr>\n",
       "    <tr>\n",
       "      <th>...</th>\n",
       "      <td>...</td>\n",
       "      <td>...</td>\n",
       "      <td>...</td>\n",
       "      <td>...</td>\n",
       "      <td>...</td>\n",
       "      <td>...</td>\n",
       "      <td>...</td>\n",
       "      <td>...</td>\n",
       "    </tr>\n",
       "    <tr>\n",
       "      <th>66324</th>\n",
       "      <td>007f2b03-94e6-47b3-9e3e-44273354acd5</td>\n",
       "      <td>2024-11-21 21:45:00+00:00</td>\n",
       "      <td>2.0</td>\n",
       "      <td>21.75</td>\n",
       "      <td>11.700000</td>\n",
       "      <td>1.0</td>\n",
       "      <td>3.0</td>\n",
       "      <td>4.0</td>\n",
       "    </tr>\n",
       "    <tr>\n",
       "      <th>66325</th>\n",
       "      <td>007f2b03-94e6-47b3-9e3e-44273354acd5</td>\n",
       "      <td>2024-11-21 22:00:00+00:00</td>\n",
       "      <td>5.0</td>\n",
       "      <td>22.00</td>\n",
       "      <td>11.700000</td>\n",
       "      <td>2.0</td>\n",
       "      <td>1.0</td>\n",
       "      <td>3.0</td>\n",
       "    </tr>\n",
       "    <tr>\n",
       "      <th>66326</th>\n",
       "      <td>007f2b03-94e6-47b3-9e3e-44273354acd5</td>\n",
       "      <td>2024-11-21 22:15:00+00:00</td>\n",
       "      <td>2.0</td>\n",
       "      <td>22.25</td>\n",
       "      <td>11.700000</td>\n",
       "      <td>5.0</td>\n",
       "      <td>2.0</td>\n",
       "      <td>1.0</td>\n",
       "    </tr>\n",
       "    <tr>\n",
       "      <th>66327</th>\n",
       "      <td>007f2b03-94e6-47b3-9e3e-44273354acd5</td>\n",
       "      <td>2024-11-21 22:30:00+00:00</td>\n",
       "      <td>3.0</td>\n",
       "      <td>22.50</td>\n",
       "      <td>11.700000</td>\n",
       "      <td>2.0</td>\n",
       "      <td>5.0</td>\n",
       "      <td>2.0</td>\n",
       "    </tr>\n",
       "    <tr>\n",
       "      <th>66328</th>\n",
       "      <td>007f2b03-94e6-47b3-9e3e-44273354acd5</td>\n",
       "      <td>2024-11-21 22:45:00+00:00</td>\n",
       "      <td>4.0</td>\n",
       "      <td>22.75</td>\n",
       "      <td>11.700000</td>\n",
       "      <td>3.0</td>\n",
       "      <td>2.0</td>\n",
       "      <td>5.0</td>\n",
       "    </tr>\n",
       "  </tbody>\n",
       "</table>\n",
       "<p>66329 rows × 8 columns</p>\n",
       "</div>"
      ],
      "text/plain": [
       "                                   SensorId                     Stamp  pm10  \\\n",
       "0      007f2b03-94e6-47b3-9e3e-44273354acd5 2023-01-01 00:45:00+00:00  68.0   \n",
       "1      007f2b03-94e6-47b3-9e3e-44273354acd5 2023-01-01 01:00:00+00:00  65.0   \n",
       "2      007f2b03-94e6-47b3-9e3e-44273354acd5 2023-01-01 01:15:00+00:00  54.0   \n",
       "3      007f2b03-94e6-47b3-9e3e-44273354acd5 2023-01-01 01:30:00+00:00  55.0   \n",
       "4      007f2b03-94e6-47b3-9e3e-44273354acd5 2023-01-01 01:45:00+00:00  56.0   \n",
       "...                                     ...                       ...   ...   \n",
       "66324  007f2b03-94e6-47b3-9e3e-44273354acd5 2024-11-21 21:45:00+00:00   2.0   \n",
       "66325  007f2b03-94e6-47b3-9e3e-44273354acd5 2024-11-21 22:00:00+00:00   5.0   \n",
       "66326  007f2b03-94e6-47b3-9e3e-44273354acd5 2024-11-21 22:15:00+00:00   2.0   \n",
       "66327  007f2b03-94e6-47b3-9e3e-44273354acd5 2024-11-21 22:30:00+00:00   3.0   \n",
       "66328  007f2b03-94e6-47b3-9e3e-44273354acd5 2024-11-21 22:45:00+00:00   4.0   \n",
       "\n",
       "        Hour  Month_Day_Calculation  pm10 - 1  pm10 - 2  pm10 - 3  \n",
       "0       0.75               1.032258      64.0      59.5      55.0  \n",
       "1       1.00               1.032258      68.0      64.0      59.5  \n",
       "2       1.25               1.032258      65.0      68.0      64.0  \n",
       "3       1.50               1.032258      54.0      65.0      68.0  \n",
       "4       1.75               1.032258      55.0      54.0      65.0  \n",
       "...      ...                    ...       ...       ...       ...  \n",
       "66324  21.75              11.700000       1.0       3.0       4.0  \n",
       "66325  22.00              11.700000       2.0       1.0       3.0  \n",
       "66326  22.25              11.700000       5.0       2.0       1.0  \n",
       "66327  22.50              11.700000       2.0       5.0       2.0  \n",
       "66328  22.75              11.700000       3.0       2.0       5.0  \n",
       "\n",
       "[66329 rows x 8 columns]"
      ]
     },
     "execution_count": 22,
     "metadata": {},
     "output_type": "execute_result"
    }
   ],
   "source": [
    "new_df"
   ]
  },
  {
   "cell_type": "code",
   "execution_count": 23,
   "metadata": {},
   "outputs": [],
   "source": [
    "new_df['Predicted'] = new_pipeline.predict(new_df.drop(columns=['SensorId', 'Stamp', 'pm10']))"
   ]
  },
  {
   "cell_type": "code",
   "execution_count": 24,
   "metadata": {},
   "outputs": [],
   "source": [
    "copy_new_df = new_df.copy()\n",
    "MOVE = 55\n",
    "copy_new_df = copy_new_df[-2000 + MOVE:-2000 + 96 + MOVE]"
   ]
  },
  {
   "cell_type": "code",
   "execution_count": 25,
   "metadata": {},
   "outputs": [],
   "source": [
    "first_3_pm10 = copy_new_df['pm10'].head(3).values.tolist()\n",
    "first_3_stamps = copy_new_df['Stamp'].head(3).values"
   ]
  },
  {
   "cell_type": "code",
   "execution_count": 26,
   "metadata": {},
   "outputs": [
    {
     "data": {
      "text/plain": [
       "numpy.datetime64('2024-11-01T16:45:00.000000000')"
      ]
     },
     "execution_count": 26,
     "metadata": {},
     "output_type": "execute_result"
    }
   ],
   "source": [
    "first_3_stamps[0]"
   ]
  },
  {
   "cell_type": "code",
   "execution_count": 27,
   "metadata": {},
   "outputs": [],
   "source": [
    "def get_next_pm10(stamp, pm10s):\n",
    "    pm10_1 = pm10s[0]\n",
    "    pm10_2 = pm10s[1]\n",
    "    pm10_3 = pm10s[2]\n",
    "    \n",
    "    hour = int(str(stamp).split('T')[1].split(':')[0])\n",
    "    minute = int(str(stamp).split('T')[1].split(':')[1])\n",
    "    second = int(str(stamp).split('T')[1].split(':')[2].split('.')[0])\n",
    "    \n",
    "    hour_feature = hour + minute / 60 + second / 3600\n",
    "    \n",
    "    month = int(str(stamp).split('T')[0].split('-')[1])\n",
    "    day = int(str(stamp).split('T')[0].split('-')[2])\n",
    "\n",
    "    start_of_month = stamp.astype('datetime64[M]')\n",
    "    start_of_next_month = start_of_month + np.timedelta64(1, 'M')\n",
    "\n",
    "    days_in_month = (start_of_next_month - start_of_month).astype('timedelta64[D]').astype(int)\n",
    "\n",
    "    \n",
    "    month_feature = month + day / days_in_month\n",
    "    \n",
    "    return new_pipeline.predict(np.array([hour_feature, month_feature, pm10_1, pm10_2, pm10_3]).reshape(1, -1))"
   ]
  },
  {
   "cell_type": "code",
   "execution_count": 28,
   "metadata": {},
   "outputs": [
    {
     "name": "stderr",
     "output_type": "stream",
     "text": [
      "c:\\ProgramData\\anaconda3\\lib\\site-packages\\sklearn\\base.py:420: UserWarning: X does not have valid feature names, but MinMaxScaler was fitted with feature names\n",
      "  warnings.warn(\n",
      "c:\\ProgramData\\anaconda3\\lib\\site-packages\\sklearn\\base.py:420: UserWarning: X does not have valid feature names, but MinMaxScaler was fitted with feature names\n",
      "  warnings.warn(\n",
      "c:\\ProgramData\\anaconda3\\lib\\site-packages\\sklearn\\base.py:420: UserWarning: X does not have valid feature names, but MinMaxScaler was fitted with feature names\n",
      "  warnings.warn(\n",
      "c:\\ProgramData\\anaconda3\\lib\\site-packages\\sklearn\\base.py:420: UserWarning: X does not have valid feature names, but MinMaxScaler was fitted with feature names\n",
      "  warnings.warn(\n",
      "c:\\ProgramData\\anaconda3\\lib\\site-packages\\sklearn\\base.py:420: UserWarning: X does not have valid feature names, but MinMaxScaler was fitted with feature names\n",
      "  warnings.warn(\n",
      "c:\\ProgramData\\anaconda3\\lib\\site-packages\\sklearn\\base.py:420: UserWarning: X does not have valid feature names, but MinMaxScaler was fitted with feature names\n",
      "  warnings.warn(\n",
      "c:\\ProgramData\\anaconda3\\lib\\site-packages\\sklearn\\base.py:420: UserWarning: X does not have valid feature names, but MinMaxScaler was fitted with feature names\n",
      "  warnings.warn(\n",
      "c:\\ProgramData\\anaconda3\\lib\\site-packages\\sklearn\\base.py:420: UserWarning: X does not have valid feature names, but MinMaxScaler was fitted with feature names\n",
      "  warnings.warn(\n",
      "c:\\ProgramData\\anaconda3\\lib\\site-packages\\sklearn\\base.py:420: UserWarning: X does not have valid feature names, but MinMaxScaler was fitted with feature names\n",
      "  warnings.warn(\n",
      "c:\\ProgramData\\anaconda3\\lib\\site-packages\\sklearn\\base.py:420: UserWarning: X does not have valid feature names, but MinMaxScaler was fitted with feature names\n",
      "  warnings.warn(\n",
      "c:\\ProgramData\\anaconda3\\lib\\site-packages\\sklearn\\base.py:420: UserWarning: X does not have valid feature names, but MinMaxScaler was fitted with feature names\n",
      "  warnings.warn(\n",
      "c:\\ProgramData\\anaconda3\\lib\\site-packages\\sklearn\\base.py:420: UserWarning: X does not have valid feature names, but MinMaxScaler was fitted with feature names\n",
      "  warnings.warn(\n",
      "c:\\ProgramData\\anaconda3\\lib\\site-packages\\sklearn\\base.py:420: UserWarning: X does not have valid feature names, but MinMaxScaler was fitted with feature names\n",
      "  warnings.warn(\n",
      "c:\\ProgramData\\anaconda3\\lib\\site-packages\\sklearn\\base.py:420: UserWarning: X does not have valid feature names, but MinMaxScaler was fitted with feature names\n",
      "  warnings.warn(\n",
      "c:\\ProgramData\\anaconda3\\lib\\site-packages\\sklearn\\base.py:420: UserWarning: X does not have valid feature names, but MinMaxScaler was fitted with feature names\n",
      "  warnings.warn(\n",
      "c:\\ProgramData\\anaconda3\\lib\\site-packages\\sklearn\\base.py:420: UserWarning: X does not have valid feature names, but MinMaxScaler was fitted with feature names\n",
      "  warnings.warn(\n",
      "c:\\ProgramData\\anaconda3\\lib\\site-packages\\sklearn\\base.py:420: UserWarning: X does not have valid feature names, but MinMaxScaler was fitted with feature names\n",
      "  warnings.warn(\n",
      "c:\\ProgramData\\anaconda3\\lib\\site-packages\\sklearn\\base.py:420: UserWarning: X does not have valid feature names, but MinMaxScaler was fitted with feature names\n",
      "  warnings.warn(\n",
      "c:\\ProgramData\\anaconda3\\lib\\site-packages\\sklearn\\base.py:420: UserWarning: X does not have valid feature names, but MinMaxScaler was fitted with feature names\n",
      "  warnings.warn(\n",
      "c:\\ProgramData\\anaconda3\\lib\\site-packages\\sklearn\\base.py:420: UserWarning: X does not have valid feature names, but MinMaxScaler was fitted with feature names\n",
      "  warnings.warn(\n",
      "c:\\ProgramData\\anaconda3\\lib\\site-packages\\sklearn\\base.py:420: UserWarning: X does not have valid feature names, but MinMaxScaler was fitted with feature names\n",
      "  warnings.warn(\n",
      "c:\\ProgramData\\anaconda3\\lib\\site-packages\\sklearn\\base.py:420: UserWarning: X does not have valid feature names, but MinMaxScaler was fitted with feature names\n",
      "  warnings.warn(\n",
      "c:\\ProgramData\\anaconda3\\lib\\site-packages\\sklearn\\base.py:420: UserWarning: X does not have valid feature names, but MinMaxScaler was fitted with feature names\n",
      "  warnings.warn(\n",
      "c:\\ProgramData\\anaconda3\\lib\\site-packages\\sklearn\\base.py:420: UserWarning: X does not have valid feature names, but MinMaxScaler was fitted with feature names\n",
      "  warnings.warn(\n",
      "c:\\ProgramData\\anaconda3\\lib\\site-packages\\sklearn\\base.py:420: UserWarning: X does not have valid feature names, but MinMaxScaler was fitted with feature names\n",
      "  warnings.warn(\n",
      "c:\\ProgramData\\anaconda3\\lib\\site-packages\\sklearn\\base.py:420: UserWarning: X does not have valid feature names, but MinMaxScaler was fitted with feature names\n",
      "  warnings.warn(\n",
      "c:\\ProgramData\\anaconda3\\lib\\site-packages\\sklearn\\base.py:420: UserWarning: X does not have valid feature names, but MinMaxScaler was fitted with feature names\n",
      "  warnings.warn(\n",
      "c:\\ProgramData\\anaconda3\\lib\\site-packages\\sklearn\\base.py:420: UserWarning: X does not have valid feature names, but MinMaxScaler was fitted with feature names\n",
      "  warnings.warn(\n",
      "c:\\ProgramData\\anaconda3\\lib\\site-packages\\sklearn\\base.py:420: UserWarning: X does not have valid feature names, but MinMaxScaler was fitted with feature names\n",
      "  warnings.warn(\n",
      "c:\\ProgramData\\anaconda3\\lib\\site-packages\\sklearn\\base.py:420: UserWarning: X does not have valid feature names, but MinMaxScaler was fitted with feature names\n",
      "  warnings.warn(\n",
      "c:\\ProgramData\\anaconda3\\lib\\site-packages\\sklearn\\base.py:420: UserWarning: X does not have valid feature names, but MinMaxScaler was fitted with feature names\n",
      "  warnings.warn(\n",
      "c:\\ProgramData\\anaconda3\\lib\\site-packages\\sklearn\\base.py:420: UserWarning: X does not have valid feature names, but MinMaxScaler was fitted with feature names\n",
      "  warnings.warn(\n",
      "c:\\ProgramData\\anaconda3\\lib\\site-packages\\sklearn\\base.py:420: UserWarning: X does not have valid feature names, but MinMaxScaler was fitted with feature names\n",
      "  warnings.warn(\n",
      "c:\\ProgramData\\anaconda3\\lib\\site-packages\\sklearn\\base.py:420: UserWarning: X does not have valid feature names, but MinMaxScaler was fitted with feature names\n",
      "  warnings.warn(\n",
      "c:\\ProgramData\\anaconda3\\lib\\site-packages\\sklearn\\base.py:420: UserWarning: X does not have valid feature names, but MinMaxScaler was fitted with feature names\n",
      "  warnings.warn(\n",
      "c:\\ProgramData\\anaconda3\\lib\\site-packages\\sklearn\\base.py:420: UserWarning: X does not have valid feature names, but MinMaxScaler was fitted with feature names\n",
      "  warnings.warn(\n",
      "c:\\ProgramData\\anaconda3\\lib\\site-packages\\sklearn\\base.py:420: UserWarning: X does not have valid feature names, but MinMaxScaler was fitted with feature names\n",
      "  warnings.warn(\n",
      "c:\\ProgramData\\anaconda3\\lib\\site-packages\\sklearn\\base.py:420: UserWarning: X does not have valid feature names, but MinMaxScaler was fitted with feature names\n",
      "  warnings.warn(\n",
      "c:\\ProgramData\\anaconda3\\lib\\site-packages\\sklearn\\base.py:420: UserWarning: X does not have valid feature names, but MinMaxScaler was fitted with feature names\n",
      "  warnings.warn(\n",
      "c:\\ProgramData\\anaconda3\\lib\\site-packages\\sklearn\\base.py:420: UserWarning: X does not have valid feature names, but MinMaxScaler was fitted with feature names\n",
      "  warnings.warn(\n",
      "c:\\ProgramData\\anaconda3\\lib\\site-packages\\sklearn\\base.py:420: UserWarning: X does not have valid feature names, but MinMaxScaler was fitted with feature names\n",
      "  warnings.warn(\n",
      "c:\\ProgramData\\anaconda3\\lib\\site-packages\\sklearn\\base.py:420: UserWarning: X does not have valid feature names, but MinMaxScaler was fitted with feature names\n",
      "  warnings.warn(\n",
      "c:\\ProgramData\\anaconda3\\lib\\site-packages\\sklearn\\base.py:420: UserWarning: X does not have valid feature names, but MinMaxScaler was fitted with feature names\n",
      "  warnings.warn(\n",
      "c:\\ProgramData\\anaconda3\\lib\\site-packages\\sklearn\\base.py:420: UserWarning: X does not have valid feature names, but MinMaxScaler was fitted with feature names\n",
      "  warnings.warn(\n",
      "c:\\ProgramData\\anaconda3\\lib\\site-packages\\sklearn\\base.py:420: UserWarning: X does not have valid feature names, but MinMaxScaler was fitted with feature names\n",
      "  warnings.warn(\n",
      "c:\\ProgramData\\anaconda3\\lib\\site-packages\\sklearn\\base.py:420: UserWarning: X does not have valid feature names, but MinMaxScaler was fitted with feature names\n",
      "  warnings.warn(\n",
      "c:\\ProgramData\\anaconda3\\lib\\site-packages\\sklearn\\base.py:420: UserWarning: X does not have valid feature names, but MinMaxScaler was fitted with feature names\n",
      "  warnings.warn(\n",
      "c:\\ProgramData\\anaconda3\\lib\\site-packages\\sklearn\\base.py:420: UserWarning: X does not have valid feature names, but MinMaxScaler was fitted with feature names\n",
      "  warnings.warn(\n",
      "c:\\ProgramData\\anaconda3\\lib\\site-packages\\sklearn\\base.py:420: UserWarning: X does not have valid feature names, but MinMaxScaler was fitted with feature names\n",
      "  warnings.warn(\n",
      "c:\\ProgramData\\anaconda3\\lib\\site-packages\\sklearn\\base.py:420: UserWarning: X does not have valid feature names, but MinMaxScaler was fitted with feature names\n",
      "  warnings.warn(\n",
      "c:\\ProgramData\\anaconda3\\lib\\site-packages\\sklearn\\base.py:420: UserWarning: X does not have valid feature names, but MinMaxScaler was fitted with feature names\n",
      "  warnings.warn(\n",
      "c:\\ProgramData\\anaconda3\\lib\\site-packages\\sklearn\\base.py:420: UserWarning: X does not have valid feature names, but MinMaxScaler was fitted with feature names\n",
      "  warnings.warn(\n",
      "c:\\ProgramData\\anaconda3\\lib\\site-packages\\sklearn\\base.py:420: UserWarning: X does not have valid feature names, but MinMaxScaler was fitted with feature names\n",
      "  warnings.warn(\n",
      "c:\\ProgramData\\anaconda3\\lib\\site-packages\\sklearn\\base.py:420: UserWarning: X does not have valid feature names, but MinMaxScaler was fitted with feature names\n",
      "  warnings.warn(\n",
      "c:\\ProgramData\\anaconda3\\lib\\site-packages\\sklearn\\base.py:420: UserWarning: X does not have valid feature names, but MinMaxScaler was fitted with feature names\n",
      "  warnings.warn(\n",
      "c:\\ProgramData\\anaconda3\\lib\\site-packages\\sklearn\\base.py:420: UserWarning: X does not have valid feature names, but MinMaxScaler was fitted with feature names\n",
      "  warnings.warn(\n",
      "c:\\ProgramData\\anaconda3\\lib\\site-packages\\sklearn\\base.py:420: UserWarning: X does not have valid feature names, but MinMaxScaler was fitted with feature names\n",
      "  warnings.warn(\n",
      "c:\\ProgramData\\anaconda3\\lib\\site-packages\\sklearn\\base.py:420: UserWarning: X does not have valid feature names, but MinMaxScaler was fitted with feature names\n",
      "  warnings.warn(\n",
      "c:\\ProgramData\\anaconda3\\lib\\site-packages\\sklearn\\base.py:420: UserWarning: X does not have valid feature names, but MinMaxScaler was fitted with feature names\n",
      "  warnings.warn(\n",
      "c:\\ProgramData\\anaconda3\\lib\\site-packages\\sklearn\\base.py:420: UserWarning: X does not have valid feature names, but MinMaxScaler was fitted with feature names\n",
      "  warnings.warn(\n",
      "c:\\ProgramData\\anaconda3\\lib\\site-packages\\sklearn\\base.py:420: UserWarning: X does not have valid feature names, but MinMaxScaler was fitted with feature names\n",
      "  warnings.warn(\n",
      "c:\\ProgramData\\anaconda3\\lib\\site-packages\\sklearn\\base.py:420: UserWarning: X does not have valid feature names, but MinMaxScaler was fitted with feature names\n",
      "  warnings.warn(\n",
      "c:\\ProgramData\\anaconda3\\lib\\site-packages\\sklearn\\base.py:420: UserWarning: X does not have valid feature names, but MinMaxScaler was fitted with feature names\n",
      "  warnings.warn(\n",
      "c:\\ProgramData\\anaconda3\\lib\\site-packages\\sklearn\\base.py:420: UserWarning: X does not have valid feature names, but MinMaxScaler was fitted with feature names\n",
      "  warnings.warn(\n",
      "c:\\ProgramData\\anaconda3\\lib\\site-packages\\sklearn\\base.py:420: UserWarning: X does not have valid feature names, but MinMaxScaler was fitted with feature names\n",
      "  warnings.warn(\n",
      "c:\\ProgramData\\anaconda3\\lib\\site-packages\\sklearn\\base.py:420: UserWarning: X does not have valid feature names, but MinMaxScaler was fitted with feature names\n",
      "  warnings.warn(\n",
      "c:\\ProgramData\\anaconda3\\lib\\site-packages\\sklearn\\base.py:420: UserWarning: X does not have valid feature names, but MinMaxScaler was fitted with feature names\n",
      "  warnings.warn(\n",
      "c:\\ProgramData\\anaconda3\\lib\\site-packages\\sklearn\\base.py:420: UserWarning: X does not have valid feature names, but MinMaxScaler was fitted with feature names\n",
      "  warnings.warn(\n",
      "c:\\ProgramData\\anaconda3\\lib\\site-packages\\sklearn\\base.py:420: UserWarning: X does not have valid feature names, but MinMaxScaler was fitted with feature names\n",
      "  warnings.warn(\n",
      "c:\\ProgramData\\anaconda3\\lib\\site-packages\\sklearn\\base.py:420: UserWarning: X does not have valid feature names, but MinMaxScaler was fitted with feature names\n",
      "  warnings.warn(\n",
      "c:\\ProgramData\\anaconda3\\lib\\site-packages\\sklearn\\base.py:420: UserWarning: X does not have valid feature names, but MinMaxScaler was fitted with feature names\n",
      "  warnings.warn(\n",
      "c:\\ProgramData\\anaconda3\\lib\\site-packages\\sklearn\\base.py:420: UserWarning: X does not have valid feature names, but MinMaxScaler was fitted with feature names\n",
      "  warnings.warn(\n",
      "c:\\ProgramData\\anaconda3\\lib\\site-packages\\sklearn\\base.py:420: UserWarning: X does not have valid feature names, but MinMaxScaler was fitted with feature names\n",
      "  warnings.warn(\n",
      "c:\\ProgramData\\anaconda3\\lib\\site-packages\\sklearn\\base.py:420: UserWarning: X does not have valid feature names, but MinMaxScaler was fitted with feature names\n",
      "  warnings.warn(\n",
      "c:\\ProgramData\\anaconda3\\lib\\site-packages\\sklearn\\base.py:420: UserWarning: X does not have valid feature names, but MinMaxScaler was fitted with feature names\n",
      "  warnings.warn(\n",
      "c:\\ProgramData\\anaconda3\\lib\\site-packages\\sklearn\\base.py:420: UserWarning: X does not have valid feature names, but MinMaxScaler was fitted with feature names\n",
      "  warnings.warn(\n",
      "c:\\ProgramData\\anaconda3\\lib\\site-packages\\sklearn\\base.py:420: UserWarning: X does not have valid feature names, but MinMaxScaler was fitted with feature names\n",
      "  warnings.warn(\n",
      "c:\\ProgramData\\anaconda3\\lib\\site-packages\\sklearn\\base.py:420: UserWarning: X does not have valid feature names, but MinMaxScaler was fitted with feature names\n",
      "  warnings.warn(\n",
      "c:\\ProgramData\\anaconda3\\lib\\site-packages\\sklearn\\base.py:420: UserWarning: X does not have valid feature names, but MinMaxScaler was fitted with feature names\n",
      "  warnings.warn(\n",
      "c:\\ProgramData\\anaconda3\\lib\\site-packages\\sklearn\\base.py:420: UserWarning: X does not have valid feature names, but MinMaxScaler was fitted with feature names\n",
      "  warnings.warn(\n",
      "c:\\ProgramData\\anaconda3\\lib\\site-packages\\sklearn\\base.py:420: UserWarning: X does not have valid feature names, but MinMaxScaler was fitted with feature names\n",
      "  warnings.warn(\n",
      "c:\\ProgramData\\anaconda3\\lib\\site-packages\\sklearn\\base.py:420: UserWarning: X does not have valid feature names, but MinMaxScaler was fitted with feature names\n",
      "  warnings.warn(\n",
      "c:\\ProgramData\\anaconda3\\lib\\site-packages\\sklearn\\base.py:420: UserWarning: X does not have valid feature names, but MinMaxScaler was fitted with feature names\n",
      "  warnings.warn(\n",
      "c:\\ProgramData\\anaconda3\\lib\\site-packages\\sklearn\\base.py:420: UserWarning: X does not have valid feature names, but MinMaxScaler was fitted with feature names\n",
      "  warnings.warn(\n",
      "c:\\ProgramData\\anaconda3\\lib\\site-packages\\sklearn\\base.py:420: UserWarning: X does not have valid feature names, but MinMaxScaler was fitted with feature names\n",
      "  warnings.warn(\n",
      "c:\\ProgramData\\anaconda3\\lib\\site-packages\\sklearn\\base.py:420: UserWarning: X does not have valid feature names, but MinMaxScaler was fitted with feature names\n",
      "  warnings.warn(\n",
      "c:\\ProgramData\\anaconda3\\lib\\site-packages\\sklearn\\base.py:420: UserWarning: X does not have valid feature names, but MinMaxScaler was fitted with feature names\n",
      "  warnings.warn(\n",
      "c:\\ProgramData\\anaconda3\\lib\\site-packages\\sklearn\\base.py:420: UserWarning: X does not have valid feature names, but MinMaxScaler was fitted with feature names\n",
      "  warnings.warn(\n",
      "c:\\ProgramData\\anaconda3\\lib\\site-packages\\sklearn\\base.py:420: UserWarning: X does not have valid feature names, but MinMaxScaler was fitted with feature names\n",
      "  warnings.warn(\n",
      "c:\\ProgramData\\anaconda3\\lib\\site-packages\\sklearn\\base.py:420: UserWarning: X does not have valid feature names, but MinMaxScaler was fitted with feature names\n",
      "  warnings.warn(\n",
      "c:\\ProgramData\\anaconda3\\lib\\site-packages\\sklearn\\base.py:420: UserWarning: X does not have valid feature names, but MinMaxScaler was fitted with feature names\n",
      "  warnings.warn(\n",
      "c:\\ProgramData\\anaconda3\\lib\\site-packages\\sklearn\\base.py:420: UserWarning: X does not have valid feature names, but MinMaxScaler was fitted with feature names\n",
      "  warnings.warn(\n",
      "c:\\ProgramData\\anaconda3\\lib\\site-packages\\sklearn\\base.py:420: UserWarning: X does not have valid feature names, but MinMaxScaler was fitted with feature names\n",
      "  warnings.warn(\n"
     ]
    }
   ],
   "source": [
    "results = [first_3_pm10[0], first_3_pm10[1], first_3_pm10[2]]\n",
    "timestamps = [first_3_stamps[0], first_3_stamps[1], first_3_stamps[2], first_3_stamps[2] + np.timedelta64(15, 'm')]\n",
    "\n",
    "for i in range(96 - 3):\n",
    "    next_pm10 = get_next_pm10(timestamps[-1], results[-5:])\n",
    "    results.append(next_pm10[0])\n",
    "    timestamps.append(timestamps[-1] + np.timedelta64(15, 'm'))"
   ]
  },
  {
   "cell_type": "code",
   "execution_count": 29,
   "metadata": {},
   "outputs": [
    {
     "data": {
      "text/plain": [
       "<Axes: xlabel='Stamp', ylabel='pm10'>"
      ]
     },
     "execution_count": 29,
     "metadata": {},
     "output_type": "execute_result"
    },
    {
     "data": {
      "image/png": "[encoded data removed]",
      "text/plain": [
       "<Figure size 1500x500 with 1 Axes>"
      ]
     },
     "metadata": {},
     "output_type": "display_data"
    }
   ],
   "source": [
    "import matplotlib.pyplot as plt\n",
    "import seaborn as sns\n",
    "\n",
    "plt.figure(figsize=(15, 5))\n",
    "\n",
    "sns.lineplot(data=copy_new_df, x='Stamp', y='pm10', label='Real')\n",
    "sns.lineplot(data=copy_new_df, x='Stamp', y='Predicted', label='Predicted')\n",
    "sns.lineplot(x=timestamps[:-1], y=results, label='Forecast')"
   ]
  },
  {
   "cell_type": "markdown",
   "metadata": {},
   "source": [
    "---"
   ]
  }
 ],
 "metadata": {
  "kernelspec": {
   "display_name": "base",
   "language": "python",
   "name": "python3"
  },
  "language_info": {
   "codemirror_mode": {
    "name": "ipython",
    "version": 3
   },
   "file_extension": ".py",
   "mimetype": "text/x-python",
   "name": "python",
   "nbconvert_exporter": "python",
   "pygments_lexer": "ipython3",
   "version": "3.10.9"
  }
 },
 "nbformat": 4,
 "nbformat_minor": 2
}
