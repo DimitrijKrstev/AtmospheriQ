{
  "nbformat": 4,
  "nbformat_minor": 0,
  "metadata": {
    "colab": {
      "provenance": []
    },
    "kernelspec": {
      "name": "python3",
      "display_name": "Python 3"
    },
    "language_info": {
      "name": "python"
    }
  },
  "cells": [
    {
      "cell_type": "markdown",
      "source": [
        "### Imports"
      ],
      "metadata": {
        "id": "-SKCSEwSMkaj"
      }
    },
    {
      "cell_type": "code",
      "execution_count": null,
      "metadata": {
        "id": "9VEB9nV9QTz2"
      },
      "outputs": [],
      "source": [
        "import numpy as np\n",
        "import pandas as pd\n",
        "from sklearn.ensemble import IsolationForest\n",
        "from sklearn.preprocessing import StandardScaler\n",
        "from scipy.stats import zscore\n",
        "import matplotlib.pyplot as plt"
      ]
    },
    {
      "cell_type": "markdown",
      "source": [
        "### Load the data"
      ],
      "metadata": {
        "id": "NuwFfjcFMpqN"
      }
    },
    {
      "cell_type": "code",
      "source": [
        "data = pd.read_csv('new_df.csv')\n",
        "data = pd.DataFrame(data)"
      ],
      "metadata": {
        "colab": {
          "base_uri": "https://localhost:8080/"
        },
        "id": "NCxJFHzqWYtR",
        "outputId": "e9a0f83a-7d1b-4dd0-bfb5-d37d5cd2bf17"
      },
      "execution_count": null,
      "outputs": [
        {
          "output_type": "stream",
          "name": "stderr",
          "text": [
            "<ipython-input-2-d3c71521113a>:1: DtypeWarning: Columns (0) have mixed types. Specify dtype option on import or set low_memory=False.\n",
            "  data = pd.read_csv('new_df.csv')\n"
          ]
        }
      ]
    },
    {
      "cell_type": "markdown",
      "source": [
        "### Shift the target variable"
      ],
      "metadata": {
        "id": "f9QKxGCBM0Sz"
      }
    },
    {
      "cell_type": "code",
      "source": [
        "lag = 3\n",
        "for i in range(1, lag + 1):\n",
        "  data[f'pm10-{i}'] = data['pm10'].shift(i)"
      ],
      "metadata": {
        "id": "dJWoIFerWafO"
      },
      "execution_count": null,
      "outputs": []
    },
    {
      "cell_type": "code",
      "source": [
        "data = data.dropna()"
      ],
      "metadata": {
        "id": "2jXCptVAWcwU"
      },
      "execution_count": null,
      "outputs": []
    },
    {
      "cell_type": "code",
      "source": [
        "data"
      ],
      "metadata": {
        "colab": {
          "base_uri": "https://localhost:8080/",
          "height": 634
        },
        "id": "w1GBZtN8WeIn",
        "outputId": "6158fd7f-272e-42a8-bc61-46474e85d0b0"
      },
      "execution_count": null,
      "outputs": [
        {
          "output_type": "execute_result",
          "data": {
            "text/plain": [
              "                                     SensorId                      Stamp  \\\n",
              "3        007f2b03-94e6-47b3-9e3e-44273354acd5  2023-01-01 00:45:00+00:00   \n",
              "4        007f2b03-94e6-47b3-9e3e-44273354acd5  2023-01-01 01:00:00+00:00   \n",
              "5        007f2b03-94e6-47b3-9e3e-44273354acd5  2023-01-01 01:15:00+00:00   \n",
              "6        007f2b03-94e6-47b3-9e3e-44273354acd5  2023-01-01 01:30:00+00:00   \n",
              "7        007f2b03-94e6-47b3-9e3e-44273354acd5  2023-01-01 01:45:00+00:00   \n",
              "...                                       ...                        ...   \n",
              "5151135                  sensor_dev_84941_208  2024-11-21 22:00:00+00:00   \n",
              "5151136                  sensor_dev_84941_208  2024-11-21 22:15:00+00:00   \n",
              "5151137                  sensor_dev_84941_208  2024-11-21 22:30:00+00:00   \n",
              "5151138                  sensor_dev_84941_208  2024-11-21 22:45:00+00:00   \n",
              "5151139                  sensor_dev_84941_208  2024-11-21 23:00:00+00:00   \n",
              "\n",
              "         humidity  pm10  pm25  temperature   Hour  Month_Day_Calculation  \\\n",
              "3            85.0  68.0  36.0          4.0   0.75               1.032258   \n",
              "4            85.0  65.0  32.0          4.0   1.00               1.032258   \n",
              "5            85.0  54.0  30.0          4.0   1.25               1.032258   \n",
              "6            86.0  55.0  29.0          3.0   1.50               1.032258   \n",
              "7            86.0  56.0  30.0          3.0   1.75               1.032258   \n",
              "...           ...   ...   ...          ...    ...                    ...   \n",
              "5151135      81.0  79.0  34.0          1.0  22.00              11.700000   \n",
              "5151136      81.0  47.0  23.0          1.0  22.25              11.700000   \n",
              "5151137      81.0  64.0  29.0          1.0  22.50              11.700000   \n",
              "5151138      81.0  65.0  30.0          1.0  22.75              11.700000   \n",
              "5151139      82.0  98.0  47.0          1.0  23.00              11.700000   \n",
              "\n",
              "         pm10-1  pm10-2  pm10-3  \n",
              "3          64.0    59.5    55.0  \n",
              "4          68.0    64.0    59.5  \n",
              "5          65.0    68.0    64.0  \n",
              "6          54.0    65.0    68.0  \n",
              "7          55.0    54.0    65.0  \n",
              "...         ...     ...     ...  \n",
              "5151135    61.0    76.0    73.0  \n",
              "5151136    79.0    61.0    76.0  \n",
              "5151137    47.0    79.0    61.0  \n",
              "5151138    64.0    47.0    79.0  \n",
              "5151139    65.0    64.0    47.0  \n",
              "\n",
              "[3312346 rows x 11 columns]"
            ],
            "text/html": [
              "\n",
              "  <div id=\"df-ce34d830-c119-42c7-b5d8-77185e40cf5b\" class=\"colab-df-container\">\n",
              "    <div>\n",
              "<style scoped>\n",
              "    .dataframe tbody tr th:only-of-type {\n",
              "        vertical-align: middle;\n",
              "    }\n",
              "\n",
              "    .dataframe tbody tr th {\n",
              "        vertical-align: top;\n",
              "    }\n",
              "\n",
              "    .dataframe thead th {\n",
              "        text-align: right;\n",
              "    }\n",
              "</style>\n",
              "<table border=\"1\" class=\"dataframe\">\n",
              "  <thead>\n",
              "    <tr style=\"text-align: right;\">\n",
              "      <th></th>\n",
              "      <th>SensorId</th>\n",
              "      <th>Stamp</th>\n",
              "      <th>humidity</th>\n",
              "      <th>pm10</th>\n",
              "      <th>pm25</th>\n",
              "      <th>temperature</th>\n",
              "      <th>Hour</th>\n",
              "      <th>Month_Day_Calculation</th>\n",
              "      <th>pm10-1</th>\n",
              "      <th>pm10-2</th>\n",
              "      <th>pm10-3</th>\n",
              "    </tr>\n",
              "  </thead>\n",
              "  <tbody>\n",
              "    <tr>\n",
              "      <th>3</th>\n",
              "      <td>007f2b03-94e6-47b3-9e3e-44273354acd5</td>\n",
              "      <td>2023-01-01 00:45:00+00:00</td>\n",
              "      <td>85.0</td>\n",
              "      <td>68.0</td>\n",
              "      <td>36.0</td>\n",
              "      <td>4.0</td>\n",
              "      <td>0.75</td>\n",
              "      <td>1.032258</td>\n",
              "      <td>64.0</td>\n",
              "      <td>59.5</td>\n",
              "      <td>55.0</td>\n",
              "    </tr>\n",
              "    <tr>\n",
              "      <th>4</th>\n",
              "      <td>007f2b03-94e6-47b3-9e3e-44273354acd5</td>\n",
              "      <td>2023-01-01 01:00:00+00:00</td>\n",
              "      <td>85.0</td>\n",
              "      <td>65.0</td>\n",
              "      <td>32.0</td>\n",
              "      <td>4.0</td>\n",
              "      <td>1.00</td>\n",
              "      <td>1.032258</td>\n",
              "      <td>68.0</td>\n",
              "      <td>64.0</td>\n",
              "      <td>59.5</td>\n",
              "    </tr>\n",
              "    <tr>\n",
              "      <th>5</th>\n",
              "      <td>007f2b03-94e6-47b3-9e3e-44273354acd5</td>\n",
              "      <td>2023-01-01 01:15:00+00:00</td>\n",
              "      <td>85.0</td>\n",
              "      <td>54.0</td>\n",
              "      <td>30.0</td>\n",
              "      <td>4.0</td>\n",
              "      <td>1.25</td>\n",
              "      <td>1.032258</td>\n",
              "      <td>65.0</td>\n",
              "      <td>68.0</td>\n",
              "      <td>64.0</td>\n",
              "    </tr>\n",
              "    <tr>\n",
              "      <th>6</th>\n",
              "      <td>007f2b03-94e6-47b3-9e3e-44273354acd5</td>\n",
              "      <td>2023-01-01 01:30:00+00:00</td>\n",
              "      <td>86.0</td>\n",
              "      <td>55.0</td>\n",
              "      <td>29.0</td>\n",
              "      <td>3.0</td>\n",
              "      <td>1.50</td>\n",
              "      <td>1.032258</td>\n",
              "      <td>54.0</td>\n",
              "      <td>65.0</td>\n",
              "      <td>68.0</td>\n",
              "    </tr>\n",
              "    <tr>\n",
              "      <th>7</th>\n",
              "      <td>007f2b03-94e6-47b3-9e3e-44273354acd5</td>\n",
              "      <td>2023-01-01 01:45:00+00:00</td>\n",
              "      <td>86.0</td>\n",
              "      <td>56.0</td>\n",
              "      <td>30.0</td>\n",
              "      <td>3.0</td>\n",
              "      <td>1.75</td>\n",
              "      <td>1.032258</td>\n",
              "      <td>55.0</td>\n",
              "      <td>54.0</td>\n",
              "      <td>65.0</td>\n",
              "    </tr>\n",
              "    <tr>\n",
              "      <th>...</th>\n",
              "      <td>...</td>\n",
              "      <td>...</td>\n",
              "      <td>...</td>\n",
              "      <td>...</td>\n",
              "      <td>...</td>\n",
              "      <td>...</td>\n",
              "      <td>...</td>\n",
              "      <td>...</td>\n",
              "      <td>...</td>\n",
              "      <td>...</td>\n",
              "      <td>...</td>\n",
              "    </tr>\n",
              "    <tr>\n",
              "      <th>5151135</th>\n",
              "      <td>sensor_dev_84941_208</td>\n",
              "      <td>2024-11-21 22:00:00+00:00</td>\n",
              "      <td>81.0</td>\n",
              "      <td>79.0</td>\n",
              "      <td>34.0</td>\n",
              "      <td>1.0</td>\n",
              "      <td>22.00</td>\n",
              "      <td>11.700000</td>\n",
              "      <td>61.0</td>\n",
              "      <td>76.0</td>\n",
              "      <td>73.0</td>\n",
              "    </tr>\n",
              "    <tr>\n",
              "      <th>5151136</th>\n",
              "      <td>sensor_dev_84941_208</td>\n",
              "      <td>2024-11-21 22:15:00+00:00</td>\n",
              "      <td>81.0</td>\n",
              "      <td>47.0</td>\n",
              "      <td>23.0</td>\n",
              "      <td>1.0</td>\n",
              "      <td>22.25</td>\n",
              "      <td>11.700000</td>\n",
              "      <td>79.0</td>\n",
              "      <td>61.0</td>\n",
              "      <td>76.0</td>\n",
              "    </tr>\n",
              "    <tr>\n",
              "      <th>5151137</th>\n",
              "      <td>sensor_dev_84941_208</td>\n",
              "      <td>2024-11-21 22:30:00+00:00</td>\n",
              "      <td>81.0</td>\n",
              "      <td>64.0</td>\n",
              "      <td>29.0</td>\n",
              "      <td>1.0</td>\n",
              "      <td>22.50</td>\n",
              "      <td>11.700000</td>\n",
              "      <td>47.0</td>\n",
              "      <td>79.0</td>\n",
              "      <td>61.0</td>\n",
              "    </tr>\n",
              "    <tr>\n",
              "      <th>5151138</th>\n",
              "      <td>sensor_dev_84941_208</td>\n",
              "      <td>2024-11-21 22:45:00+00:00</td>\n",
              "      <td>81.0</td>\n",
              "      <td>65.0</td>\n",
              "      <td>30.0</td>\n",
              "      <td>1.0</td>\n",
              "      <td>22.75</td>\n",
              "      <td>11.700000</td>\n",
              "      <td>64.0</td>\n",
              "      <td>47.0</td>\n",
              "      <td>79.0</td>\n",
              "    </tr>\n",
              "    <tr>\n",
              "      <th>5151139</th>\n",
              "      <td>sensor_dev_84941_208</td>\n",
              "      <td>2024-11-21 23:00:00+00:00</td>\n",
              "      <td>82.0</td>\n",
              "      <td>98.0</td>\n",
              "      <td>47.0</td>\n",
              "      <td>1.0</td>\n",
              "      <td>23.00</td>\n",
              "      <td>11.700000</td>\n",
              "      <td>65.0</td>\n",
              "      <td>64.0</td>\n",
              "      <td>47.0</td>\n",
              "    </tr>\n",
              "  </tbody>\n",
              "</table>\n",
              "<p>3312346 rows × 11 columns</p>\n",
              "</div>\n",
              "    <div class=\"colab-df-buttons\">\n",
              "\n",
              "  <div class=\"colab-df-container\">\n",
              "    <button class=\"colab-df-convert\" onclick=\"convertToInteractive('df-ce34d830-c119-42c7-b5d8-77185e40cf5b')\"\n",
              "            title=\"Convert this dataframe to an interactive table.\"\n",
              "            style=\"display:none;\">\n",
              "\n",
              "  <svg xmlns=\"http://www.w3.org/2000/svg\" height=\"24px\" viewBox=\"0 -960 960 960\">\n",
              "    <path d=\"M120-120v-720h720v720H120Zm60-500h600v-160H180v160Zm220 220h160v-160H400v160Zm0 220h160v-160H400v160ZM180-400h160v-160H180v160Zm440 0h160v-160H620v160ZM180-180h160v-160H180v160Zm440 0h160v-160H620v160Z\"/>\n",
              "  </svg>\n",
              "    </button>\n",
              "\n",
              "  <style>\n",
              "    .colab-df-container {\n",
              "      display:flex;\n",
              "      gap: 12px;\n",
              "    }\n",
              "\n",
              "    .colab-df-convert {\n",
              "      background-color: #E8F0FE;\n",
              "      border: none;\n",
              "      border-radius: 50%;\n",
              "      cursor: pointer;\n",
              "      display: none;\n",
              "      fill: #1967D2;\n",
              "      height: 32px;\n",
              "      padding: 0 0 0 0;\n",
              "      width: 32px;\n",
              "    }\n",
              "\n",
              "    .colab-df-convert:hover {\n",
              "      background-color: #E2EBFA;\n",
              "      box-shadow: 0px 1px 2px rgba(60, 64, 67, 0.3), 0px 1px 3px 1px rgba(60, 64, 67, 0.15);\n",
              "      fill: #174EA6;\n",
              "    }\n",
              "\n",
              "    .colab-df-buttons div {\n",
              "      margin-bottom: 4px;\n",
              "    }\n",
              "\n",
              "    [theme=dark] .colab-df-convert {\n",
              "      background-color: #3B4455;\n",
              "      fill: #D2E3FC;\n",
              "    }\n",
              "\n",
              "    [theme=dark] .colab-df-convert:hover {\n",
              "      background-color: #434B5C;\n",
              "      box-shadow: 0px 1px 3px 1px rgba(0, 0, 0, 0.15);\n",
              "      filter: drop-shadow(0px 1px 2px rgba(0, 0, 0, 0.3));\n",
              "      fill: #FFFFFF;\n",
              "    }\n",
              "  </style>\n",
              "\n",
              "    <script>\n",
              "      const buttonEl =\n",
              "        document.querySelector('#df-ce34d830-c119-42c7-b5d8-77185e40cf5b button.colab-df-convert');\n",
              "      buttonEl.style.display =\n",
              "        google.colab.kernel.accessAllowed ? 'block' : 'none';\n",
              "\n",
              "      async function convertToInteractive(key) {\n",
              "        const element = document.querySelector('#df-ce34d830-c119-42c7-b5d8-77185e40cf5b');\n",
              "        const dataTable =\n",
              "          await google.colab.kernel.invokeFunction('convertToInteractive',\n",
              "                                                    [key], {});\n",
              "        if (!dataTable) return;\n",
              "\n",
              "        const docLinkHtml = 'Like what you see? Visit the ' +\n",
              "          '<a target=\"_blank\" href=https://colab.research.google.com/notebooks/data_table.ipynb>data table notebook</a>'\n",
              "          + ' to learn more about interactive tables.';\n",
              "        element.innerHTML = '';\n",
              "        dataTable['output_type'] = 'display_data';\n",
              "        await google.colab.output.renderOutput(dataTable, element);\n",
              "        const docLink = document.createElement('div');\n",
              "        docLink.innerHTML = docLinkHtml;\n",
              "        element.appendChild(docLink);\n",
              "      }\n",
              "    </script>\n",
              "  </div>\n",
              "\n",
              "\n",
              "<div id=\"df-158f14f7-ce16-4497-aaab-79a06e748cb1\">\n",
              "  <button class=\"colab-df-quickchart\" onclick=\"quickchart('df-158f14f7-ce16-4497-aaab-79a06e748cb1')\"\n",
              "            title=\"Suggest charts\"\n",
              "            style=\"display:none;\">\n",
              "\n",
              "<svg xmlns=\"http://www.w3.org/2000/svg\" height=\"24px\"viewBox=\"0 0 24 24\"\n",
              "     width=\"24px\">\n",
              "    <g>\n",
              "        <path d=\"M19 3H5c-1.1 0-2 .9-2 2v14c0 1.1.9 2 2 2h14c1.1 0 2-.9 2-2V5c0-1.1-.9-2-2-2zM9 17H7v-7h2v7zm4 0h-2V7h2v10zm4 0h-2v-4h2v4z\"/>\n",
              "    </g>\n",
              "</svg>\n",
              "  </button>\n",
              "\n",
              "<style>\n",
              "  .colab-df-quickchart {\n",
              "      --bg-color: #E8F0FE;\n",
              "      --fill-color: #1967D2;\n",
              "      --hover-bg-color: #E2EBFA;\n",
              "      --hover-fill-color: #174EA6;\n",
              "      --disabled-fill-color: #AAA;\n",
              "      --disabled-bg-color: #DDD;\n",
              "  }\n",
              "\n",
              "  [theme=dark] .colab-df-quickchart {\n",
              "      --bg-color: #3B4455;\n",
              "      --fill-color: #D2E3FC;\n",
              "      --hover-bg-color: #434B5C;\n",
              "      --hover-fill-color: #FFFFFF;\n",
              "      --disabled-bg-color: #3B4455;\n",
              "      --disabled-fill-color: #666;\n",
              "  }\n",
              "\n",
              "  .colab-df-quickchart {\n",
              "    background-color: var(--bg-color);\n",
              "    border: none;\n",
              "    border-radius: 50%;\n",
              "    cursor: pointer;\n",
              "    display: none;\n",
              "    fill: var(--fill-color);\n",
              "    height: 32px;\n",
              "    padding: 0;\n",
              "    width: 32px;\n",
              "  }\n",
              "\n",
              "  .colab-df-quickchart:hover {\n",
              "    background-color: var(--hover-bg-color);\n",
              "    box-shadow: 0 1px 2px rgba(60, 64, 67, 0.3), 0 1px 3px 1px rgba(60, 64, 67, 0.15);\n",
              "    fill: var(--button-hover-fill-color);\n",
              "  }\n",
              "\n",
              "  .colab-df-quickchart-complete:disabled,\n",
              "  .colab-df-quickchart-complete:disabled:hover {\n",
              "    background-color: var(--disabled-bg-color);\n",
              "    fill: var(--disabled-fill-color);\n",
              "    box-shadow: none;\n",
              "  }\n",
              "\n",
              "  .colab-df-spinner {\n",
              "    border: 2px solid var(--fill-color);\n",
              "    border-color: transparent;\n",
              "    border-bottom-color: var(--fill-color);\n",
              "    animation:\n",
              "      spin 1s steps(1) infinite;\n",
              "  }\n",
              "\n",
              "  @keyframes spin {\n",
              "    0% {\n",
              "      border-color: transparent;\n",
              "      border-bottom-color: var(--fill-color);\n",
              "      border-left-color: var(--fill-color);\n",
              "    }\n",
              "    20% {\n",
              "      border-color: transparent;\n",
              "      border-left-color: var(--fill-color);\n",
              "      border-top-color: var(--fill-color);\n",
              "    }\n",
              "    30% {\n",
              "      border-color: transparent;\n",
              "      border-left-color: var(--fill-color);\n",
              "      border-top-color: var(--fill-color);\n",
              "      border-right-color: var(--fill-color);\n",
              "    }\n",
              "    40% {\n",
              "      border-color: transparent;\n",
              "      border-right-color: var(--fill-color);\n",
              "      border-top-color: var(--fill-color);\n",
              "    }\n",
              "    60% {\n",
              "      border-color: transparent;\n",
              "      border-right-color: var(--fill-color);\n",
              "    }\n",
              "    80% {\n",
              "      border-color: transparent;\n",
              "      border-right-color: var(--fill-color);\n",
              "      border-bottom-color: var(--fill-color);\n",
              "    }\n",
              "    90% {\n",
              "      border-color: transparent;\n",
              "      border-bottom-color: var(--fill-color);\n",
              "    }\n",
              "  }\n",
              "</style>\n",
              "\n",
              "  <script>\n",
              "    async function quickchart(key) {\n",
              "      const quickchartButtonEl =\n",
              "        document.querySelector('#' + key + ' button');\n",
              "      quickchartButtonEl.disabled = true;  // To prevent multiple clicks.\n",
              "      quickchartButtonEl.classList.add('colab-df-spinner');\n",
              "      try {\n",
              "        const charts = await google.colab.kernel.invokeFunction(\n",
              "            'suggestCharts', [key], {});\n",
              "      } catch (error) {\n",
              "        console.error('Error during call to suggestCharts:', error);\n",
              "      }\n",
              "      quickchartButtonEl.classList.remove('colab-df-spinner');\n",
              "      quickchartButtonEl.classList.add('colab-df-quickchart-complete');\n",
              "    }\n",
              "    (() => {\n",
              "      let quickchartButtonEl =\n",
              "        document.querySelector('#df-158f14f7-ce16-4497-aaab-79a06e748cb1 button');\n",
              "      quickchartButtonEl.style.display =\n",
              "        google.colab.kernel.accessAllowed ? 'block' : 'none';\n",
              "    })();\n",
              "  </script>\n",
              "</div>\n",
              "    </div>\n",
              "  </div>\n"
            ],
            "application/vnd.google.colaboratory.intrinsic+json": {
              "type": "dataframe",
              "variable_name": "data"
            }
          },
          "metadata": {},
          "execution_count": 5
        }
      ]
    },
    {
      "cell_type": "markdown",
      "source": [
        "### Define features and target"
      ],
      "metadata": {
        "id": "Uh2V8FnMNCZY"
      }
    },
    {
      "cell_type": "code",
      "source": [
        "features = ['humidity', 'temperature', 'pm10-1', 'pm10-2', 'pm10-3', 'Hour', 'Month_Day_Calculation']\n",
        "target = 'pm10'"
      ],
      "metadata": {
        "id": "7Yc4jl85YhkT"
      },
      "execution_count": null,
      "outputs": []
    },
    {
      "cell_type": "markdown",
      "source": [
        "### Prepare the data"
      ],
      "metadata": {
        "id": "_D5gyyaSNjGR"
      }
    },
    {
      "cell_type": "code",
      "source": [
        "X = data[features]\n",
        "y = data[target]"
      ],
      "metadata": {
        "id": "4fkytlu1YjAf"
      },
      "execution_count": null,
      "outputs": []
    },
    {
      "cell_type": "markdown",
      "source": [
        "### Scale the features"
      ],
      "metadata": {
        "id": "vVTE60u-NlY-"
      }
    },
    {
      "cell_type": "code",
      "source": [
        "scaler = StandardScaler()\n",
        "X_scaled = scaler.fit_transform(X)"
      ],
      "metadata": {
        "id": "lx1zE30RYlbq"
      },
      "execution_count": null,
      "outputs": []
    },
    {
      "cell_type": "markdown",
      "source": [
        "### Calculate contamination proportion\n"
      ],
      "metadata": {
        "id": "HiZTzYzXNo4c"
      }
    },
    {
      "cell_type": "code",
      "source": [
        "z_scores = np.abs(zscore(y))\n",
        "contamination_proportion = np.sum(z_scores > 3) / len(y)\n",
        "print(f\"Calculated contamination proportion: {contamination_proportion:.4f}\")"
      ],
      "metadata": {
        "colab": {
          "base_uri": "https://localhost:8080/"
        },
        "id": "iKYXYhdn_vqT",
        "outputId": "5c969af3-915b-4fc9-db9c-d17be510be11"
      },
      "execution_count": null,
      "outputs": [
        {
          "output_type": "stream",
          "name": "stdout",
          "text": [
            "Calculated contamination proportion: 0.0212\n"
          ]
        }
      ]
    },
    {
      "cell_type": "markdown",
      "source": [
        "### Isolation Forest"
      ],
      "metadata": {
        "id": "njenEvP4NyGv"
      }
    },
    {
      "cell_type": "code",
      "source": [
        "iso_forest = IsolationForest(contamination=contamination_proportion, random_state=False)\n",
        "outlier_labels = iso_forest.fit_predict(X_scaled)\n",
        "data['Outlier_Auto'] = outlier_labels"
      ],
      "metadata": {
        "id": "DOs6Sx-XYnUT"
      },
      "execution_count": null,
      "outputs": []
    },
    {
      "cell_type": "code",
      "source": [
        "print(\"Outliers:\", np.sum(data['Outlier_Auto'] == -1))\n",
        "print(\"Inliers:\", np.sum(data['Outlier_Auto'] == 1))"
      ],
      "metadata": {
        "colab": {
          "base_uri": "https://localhost:8080/"
        },
        "id": "--IdT_IOYq1n",
        "outputId": "0de32e30-754e-48c8-86e4-b08b0aa31bc5"
      },
      "execution_count": null,
      "outputs": [
        {
          "output_type": "stream",
          "name": "stdout",
          "text": [
            "Outliers: 70149\n",
            "Inliers: 3242197\n"
          ]
        }
      ]
    },
    {
      "cell_type": "markdown",
      "source": [
        "### Visualization"
      ],
      "metadata": {
        "id": "PFnO6vw7N7GG"
      }
    },
    {
      "cell_type": "code",
      "source": [
        "anomaly_scores = iso_forest.decision_function(X_scaled)\n",
        "plt.figure(figsize=(8, 5))\n",
        "plt.hist(anomaly_scores, bins=50, color='blue', alpha=0.7)\n",
        "plt.axvline(x=0, color='red', linestyle='--', label='Decision Boundary')\n",
        "plt.title('Anomaly Scores Distribution')\n",
        "plt.xlabel('Anomaly Score')\n",
        "plt.ylabel('Frequency')\n",
        "plt.legend()\n",
        "plt.show()"
      ],
      "metadata": {
        "colab": {
          "base_uri": "https://localhost:8080/",
          "height": 437
        },
        "id": "0BDNpWKhYtW8",
        "outputId": "aaa8fc33-7344-4ced-f639-85e33cea6a26"
      },
      "execution_count": null,
      "outputs": [
        {
          "output_type": "display_data",
          "data": {
            "text/plain": [
              "<Figure size 800x500 with 1 Axes>"
            ],
            "image/png": "[encoded data removed]"
          },
          "metadata": {}
        }
      ]
    }
  ]
}