{
  "nbformat": 4,
  "nbformat_minor": 0,
  "metadata": {
    "colab": {
      "provenance": [],
      "gpuType": "T4"
    },
    "kernelspec": {
      "name": "python3",
      "display_name": "Python 3"
    },
    "language_info": {
      "name": "python"
    },
    "accelerator": "GPU"
  },
  "cells": [
    {
      "cell_type": "markdown",
      "source": [
        "### Imports"
      ],
      "metadata": {
        "id": "QSEZmDbOOhrn"
      }
    },
    {
      "cell_type": "code",
      "source": [
        "import numpy as np\n",
        "import pandas as pd\n",
        "from sklearn.preprocessing import LabelEncoder, StandardScaler\n",
        "from tensorflow.keras.models import Model\n",
        "from tensorflow.keras.layers import LSTM, Dense, Dropout, Embedding, Input, Concatenate, Flatten\n",
        "from tensorflow.keras.optimizers import Adam\n",
        "from sklearn.model_selection import train_test_split\n",
        "from sklearn.metrics import mean_squared_error, mean_absolute_error, r2_score"
      ],
      "metadata": {
        "id": "eY3_65dr8lIq"
      },
      "execution_count": null,
      "outputs": []
    },
    {
      "cell_type": "markdown",
      "source": [
        "### **Load the data**"
      ],
      "metadata": {
        "id": "modl7IjMtH-P"
      }
    },
    {
      "cell_type": "code",
      "source": [
        "data = pd.read_csv('new_df.csv')\n",
        "data = pd.DataFrame(data)"
      ],
      "metadata": {
        "colab": {
          "base_uri": "https://localhost:8080/"
        },
        "id": "ljNOZrQYWcqm",
        "outputId": "7f599e10-c358-4703-cc7f-d4e7538e4a76"
      },
      "execution_count": null,
      "outputs": [
        {
          "output_type": "stream",
          "name": "stderr",
          "text": [
            "<ipython-input-223-d3c71521113a>:1: DtypeWarning: Columns (0) have mixed types. Specify dtype option on import or set low_memory=False.\n",
            "  data = pd.read_csv('new_df.csv')\n"
          ]
        }
      ]
    },
    {
      "cell_type": "markdown",
      "source": [
        "### Shift the target variable"
      ],
      "metadata": {
        "id": "cEn4XETYOmDF"
      }
    },
    {
      "cell_type": "code",
      "source": [
        "lag = 3\n",
        "for i in range(1, lag + 1):\n",
        "  data[f'pm10-{i}'] = data['pm10'].shift(i)"
      ],
      "metadata": {
        "id": "I7JPOxiXX1aZ"
      },
      "execution_count": null,
      "outputs": []
    },
    {
      "cell_type": "code",
      "source": [
        "data = data.dropna()"
      ],
      "metadata": {
        "id": "Q-fThluMYA0h"
      },
      "execution_count": null,
      "outputs": []
    },
    {
      "cell_type": "code",
      "source": [
        "data"
      ],
      "metadata": {
        "colab": {
          "base_uri": "https://localhost:8080/",
          "height": 423
        },
        "id": "5vGgkBaCiRMt",
        "outputId": "eb441db2-8f9b-43e6-90af-45091dbd9ae7"
      },
      "execution_count": null,
      "outputs": [
        {
          "output_type": "execute_result",
          "data": {
            "text/plain": [
              "                                     SensorId                      Stamp  \\\n",
              "3        007f2b03-94e6-47b3-9e3e-44273354acd5  2023-01-01 00:45:00+00:00   \n",
              "4        007f2b03-94e6-47b3-9e3e-44273354acd5  2023-01-01 01:00:00+00:00   \n",
              "5        007f2b03-94e6-47b3-9e3e-44273354acd5  2023-01-01 01:15:00+00:00   \n",
              "6        007f2b03-94e6-47b3-9e3e-44273354acd5  2023-01-01 01:30:00+00:00   \n",
              "7        007f2b03-94e6-47b3-9e3e-44273354acd5  2023-01-01 01:45:00+00:00   \n",
              "...                                       ...                        ...   \n",
              "5151135                  sensor_dev_84941_208  2024-11-21 22:00:00+00:00   \n",
              "5151136                  sensor_dev_84941_208  2024-11-21 22:15:00+00:00   \n",
              "5151137                  sensor_dev_84941_208  2024-11-21 22:30:00+00:00   \n",
              "5151138                  sensor_dev_84941_208  2024-11-21 22:45:00+00:00   \n",
              "5151139                  sensor_dev_84941_208  2024-11-21 23:00:00+00:00   \n",
              "\n",
              "         humidity  pm10  pm25  temperature   Hour  Month_Day_Calculation  \\\n",
              "3            85.0  68.0  36.0          4.0   0.75               1.032258   \n",
              "4            85.0  65.0  32.0          4.0   1.00               1.032258   \n",
              "5            85.0  54.0  30.0          4.0   1.25               1.032258   \n",
              "6            86.0  55.0  29.0          3.0   1.50               1.032258   \n",
              "7            86.0  56.0  30.0          3.0   1.75               1.032258   \n",
              "...           ...   ...   ...          ...    ...                    ...   \n",
              "5151135      81.0  79.0  34.0          1.0  22.00              11.700000   \n",
              "5151136      81.0  47.0  23.0          1.0  22.25              11.700000   \n",
              "5151137      81.0  64.0  29.0          1.0  22.50              11.700000   \n",
              "5151138      81.0  65.0  30.0          1.0  22.75              11.700000   \n",
              "5151139      82.0  98.0  47.0          1.0  23.00              11.700000   \n",
              "\n",
              "         pm10-1  pm10-2  pm10-3  \n",
              "3          64.0    59.5    55.0  \n",
              "4          68.0    64.0    59.5  \n",
              "5          65.0    68.0    64.0  \n",
              "6          54.0    65.0    68.0  \n",
              "7          55.0    54.0    65.0  \n",
              "...         ...     ...     ...  \n",
              "5151135    61.0    76.0    73.0  \n",
              "5151136    79.0    61.0    76.0  \n",
              "5151137    47.0    79.0    61.0  \n",
              "5151138    64.0    47.0    79.0  \n",
              "5151139    65.0    64.0    47.0  \n",
              "\n",
              "[3312346 rows x 11 columns]"
            ],
            "text/html": [
              "\n",
              "  <div id=\"df-14c552dc-a5bf-4b81-827a-03f724a9d5d0\" class=\"colab-df-container\">\n",
              "    <div>\n",
              "<style scoped>\n",
              "    .dataframe tbody tr th:only-of-type {\n",
              "        vertical-align: middle;\n",
              "    }\n",
              "\n",
              "    .dataframe tbody tr th {\n",
              "        vertical-align: top;\n",
              "    }\n",
              "\n",
              "    .dataframe thead th {\n",
              "        text-align: right;\n",
              "    }\n",
              "</style>\n",
              "<table border=\"1\" class=\"dataframe\">\n",
              "  <thead>\n",
              "    <tr style=\"text-align: right;\">\n",
              "      <th></th>\n",
              "      <th>SensorId</th>\n",
              "      <th>Stamp</th>\n",
              "      <th>humidity</th>\n",
              "      <th>pm10</th>\n",
              "      <th>pm25</th>\n",
              "      <th>temperature</th>\n",
              "      <th>Hour</th>\n",
              "      <th>Month_Day_Calculation</th>\n",
              "      <th>pm10-1</th>\n",
              "      <th>pm10-2</th>\n",
              "      <th>pm10-3</th>\n",
              "    </tr>\n",
              "  </thead>\n",
              "  <tbody>\n",
              "    <tr>\n",
              "      <th>3</th>\n",
              "      <td>007f2b03-94e6-47b3-9e3e-44273354acd5</td>\n",
              "      <td>2023-01-01 00:45:00+00:00</td>\n",
              "      <td>85.0</td>\n",
              "      <td>68.0</td>\n",
              "      <td>36.0</td>\n",
              "      <td>4.0</td>\n",
              "      <td>0.75</td>\n",
              "      <td>1.032258</td>\n",
              "      <td>64.0</td>\n",
              "      <td>59.5</td>\n",
              "      <td>55.0</td>\n",
              "    </tr>\n",
              "    <tr>\n",
              "      <th>4</th>\n",
              "      <td>007f2b03-94e6-47b3-9e3e-44273354acd5</td>\n",
              "      <td>2023-01-01 01:00:00+00:00</td>\n",
              "      <td>85.0</td>\n",
              "      <td>65.0</td>\n",
              "      <td>32.0</td>\n",
              "      <td>4.0</td>\n",
              "      <td>1.00</td>\n",
              "      <td>1.032258</td>\n",
              "      <td>68.0</td>\n",
              "      <td>64.0</td>\n",
              "      <td>59.5</td>\n",
              "    </tr>\n",
              "    <tr>\n",
              "      <th>5</th>\n",
              "      <td>007f2b03-94e6-47b3-9e3e-44273354acd5</td>\n",
              "      <td>2023-01-01 01:15:00+00:00</td>\n",
              "      <td>85.0</td>\n",
              "      <td>54.0</td>\n",
              "      <td>30.0</td>\n",
              "      <td>4.0</td>\n",
              "      <td>1.25</td>\n",
              "      <td>1.032258</td>\n",
              "      <td>65.0</td>\n",
              "      <td>68.0</td>\n",
              "      <td>64.0</td>\n",
              "    </tr>\n",
              "    <tr>\n",
              "      <th>6</th>\n",
              "      <td>007f2b03-94e6-47b3-9e3e-44273354acd5</td>\n",
              "      <td>2023-01-01 01:30:00+00:00</td>\n",
              "      <td>86.0</td>\n",
              "      <td>55.0</td>\n",
              "      <td>29.0</td>\n",
              "      <td>3.0</td>\n",
              "      <td>1.50</td>\n",
              "      <td>1.032258</td>\n",
              "      <td>54.0</td>\n",
              "      <td>65.0</td>\n",
              "      <td>68.0</td>\n",
              "    </tr>\n",
              "    <tr>\n",
              "      <th>7</th>\n",
              "      <td>007f2b03-94e6-47b3-9e3e-44273354acd5</td>\n",
              "      <td>2023-01-01 01:45:00+00:00</td>\n",
              "      <td>86.0</td>\n",
              "      <td>56.0</td>\n",
              "      <td>30.0</td>\n",
              "      <td>3.0</td>\n",
              "      <td>1.75</td>\n",
              "      <td>1.032258</td>\n",
              "      <td>55.0</td>\n",
              "      <td>54.0</td>\n",
              "      <td>65.0</td>\n",
              "    </tr>\n",
              "    <tr>\n",
              "      <th>...</th>\n",
              "      <td>...</td>\n",
              "      <td>...</td>\n",
              "      <td>...</td>\n",
              "      <td>...</td>\n",
              "      <td>...</td>\n",
              "      <td>...</td>\n",
              "      <td>...</td>\n",
              "      <td>...</td>\n",
              "      <td>...</td>\n",
              "      <td>...</td>\n",
              "      <td>...</td>\n",
              "    </tr>\n",
              "    <tr>\n",
              "      <th>5151135</th>\n",
              "      <td>sensor_dev_84941_208</td>\n",
              "      <td>2024-11-21 22:00:00+00:00</td>\n",
              "      <td>81.0</td>\n",
              "      <td>79.0</td>\n",
              "      <td>34.0</td>\n",
              "      <td>1.0</td>\n",
              "      <td>22.00</td>\n",
              "      <td>11.700000</td>\n",
              "      <td>61.0</td>\n",
              "      <td>76.0</td>\n",
              "      <td>73.0</td>\n",
              "    </tr>\n",
              "    <tr>\n",
              "      <th>5151136</th>\n",
              "      <td>sensor_dev_84941_208</td>\n",
              "      <td>2024-11-21 22:15:00+00:00</td>\n",
              "      <td>81.0</td>\n",
              "      <td>47.0</td>\n",
              "      <td>23.0</td>\n",
              "      <td>1.0</td>\n",
              "      <td>22.25</td>\n",
              "      <td>11.700000</td>\n",
              "      <td>79.0</td>\n",
              "      <td>61.0</td>\n",
              "      <td>76.0</td>\n",
              "    </tr>\n",
              "    <tr>\n",
              "      <th>5151137</th>\n",
              "      <td>sensor_dev_84941_208</td>\n",
              "      <td>2024-11-21 22:30:00+00:00</td>\n",
              "      <td>81.0</td>\n",
              "      <td>64.0</td>\n",
              "      <td>29.0</td>\n",
              "      <td>1.0</td>\n",
              "      <td>22.50</td>\n",
              "      <td>11.700000</td>\n",
              "      <td>47.0</td>\n",
              "      <td>79.0</td>\n",
              "      <td>61.0</td>\n",
              "    </tr>\n",
              "    <tr>\n",
              "      <th>5151138</th>\n",
              "      <td>sensor_dev_84941_208</td>\n",
              "      <td>2024-11-21 22:45:00+00:00</td>\n",
              "      <td>81.0</td>\n",
              "      <td>65.0</td>\n",
              "      <td>30.0</td>\n",
              "      <td>1.0</td>\n",
              "      <td>22.75</td>\n",
              "      <td>11.700000</td>\n",
              "      <td>64.0</td>\n",
              "      <td>47.0</td>\n",
              "      <td>79.0</td>\n",
              "    </tr>\n",
              "    <tr>\n",
              "      <th>5151139</th>\n",
              "      <td>sensor_dev_84941_208</td>\n",
              "      <td>2024-11-21 23:00:00+00:00</td>\n",
              "      <td>82.0</td>\n",
              "      <td>98.0</td>\n",
              "      <td>47.0</td>\n",
              "      <td>1.0</td>\n",
              "      <td>23.00</td>\n",
              "      <td>11.700000</td>\n",
              "      <td>65.0</td>\n",
              "      <td>64.0</td>\n",
              "      <td>47.0</td>\n",
              "    </tr>\n",
              "  </tbody>\n",
              "</table>\n",
              "<p>3312346 rows × 11 columns</p>\n",
              "</div>\n",
              "    <div class=\"colab-df-buttons\">\n",
              "\n",
              "  <div class=\"colab-df-container\">\n",
              "    <button class=\"colab-df-convert\" onclick=\"convertToInteractive('df-14c552dc-a5bf-4b81-827a-03f724a9d5d0')\"\n",
              "            title=\"Convert this dataframe to an interactive table.\"\n",
              "            style=\"display:none;\">\n",
              "\n",
              "  <svg xmlns=\"http://www.w3.org/2000/svg\" height=\"24px\" viewBox=\"0 -960 960 960\">\n",
              "    <path d=\"M120-120v-720h720v720H120Zm60-500h600v-160H180v160Zm220 220h160v-160H400v160Zm0 220h160v-160H400v160ZM180-400h160v-160H180v160Zm440 0h160v-160H620v160ZM180-180h160v-160H180v160Zm440 0h160v-160H620v160Z\"/>\n",
              "  </svg>\n",
              "    </button>\n",
              "\n",
              "  <style>\n",
              "    .colab-df-container {\n",
              "      display:flex;\n",
              "      gap: 12px;\n",
              "    }\n",
              "\n",
              "    .colab-df-convert {\n",
              "      background-color: #E8F0FE;\n",
              "      border: none;\n",
              "      border-radius: 50%;\n",
              "      cursor: pointer;\n",
              "      display: none;\n",
              "      fill: #1967D2;\n",
              "      height: 32px;\n",
              "      padding: 0 0 0 0;\n",
              "      width: 32px;\n",
              "    }\n",
              "\n",
              "    .colab-df-convert:hover {\n",
              "      background-color: #E2EBFA;\n",
              "      box-shadow: 0px 1px 2px rgba(60, 64, 67, 0.3), 0px 1px 3px 1px rgba(60, 64, 67, 0.15);\n",
              "      fill: #174EA6;\n",
              "    }\n",
              "\n",
              "    .colab-df-buttons div {\n",
              "      margin-bottom: 4px;\n",
              "    }\n",
              "\n",
              "    [theme=dark] .colab-df-convert {\n",
              "      background-color: #3B4455;\n",
              "      fill: #D2E3FC;\n",
              "    }\n",
              "\n",
              "    [theme=dark] .colab-df-convert:hover {\n",
              "      background-color: #434B5C;\n",
              "      box-shadow: 0px 1px 3px 1px rgba(0, 0, 0, 0.15);\n",
              "      filter: drop-shadow(0px 1px 2px rgba(0, 0, 0, 0.3));\n",
              "      fill: #FFFFFF;\n",
              "    }\n",
              "  </style>\n",
              "\n",
              "    <script>\n",
              "      const buttonEl =\n",
              "        document.querySelector('#df-14c552dc-a5bf-4b81-827a-03f724a9d5d0 button.colab-df-convert');\n",
              "      buttonEl.style.display =\n",
              "        google.colab.kernel.accessAllowed ? 'block' : 'none';\n",
              "\n",
              "      async function convertToInteractive(key) {\n",
              "        const element = document.querySelector('#df-14c552dc-a5bf-4b81-827a-03f724a9d5d0');\n",
              "        const dataTable =\n",
              "          await google.colab.kernel.invokeFunction('convertToInteractive',\n",
              "                                                    [key], {});\n",
              "        if (!dataTable) return;\n",
              "\n",
              "        const docLinkHtml = 'Like what you see? Visit the ' +\n",
              "          '<a target=\"_blank\" href=https://colab.research.google.com/notebooks/data_table.ipynb>data table notebook</a>'\n",
              "          + ' to learn more about interactive tables.';\n",
              "        element.innerHTML = '';\n",
              "        dataTable['output_type'] = 'display_data';\n",
              "        await google.colab.output.renderOutput(dataTable, element);\n",
              "        const docLink = document.createElement('div');\n",
              "        docLink.innerHTML = docLinkHtml;\n",
              "        element.appendChild(docLink);\n",
              "      }\n",
              "    </script>\n",
              "  </div>\n",
              "\n",
              "\n",
              "<div id=\"df-4f7d6ffa-7b05-4216-a18a-77839b96b0db\">\n",
              "  <button class=\"colab-df-quickchart\" onclick=\"quickchart('df-4f7d6ffa-7b05-4216-a18a-77839b96b0db')\"\n",
              "            title=\"Suggest charts\"\n",
              "            style=\"display:none;\">\n",
              "\n",
              "<svg xmlns=\"http://www.w3.org/2000/svg\" height=\"24px\"viewBox=\"0 0 24 24\"\n",
              "     width=\"24px\">\n",
              "    <g>\n",
              "        <path d=\"M19 3H5c-1.1 0-2 .9-2 2v14c0 1.1.9 2 2 2h14c1.1 0 2-.9 2-2V5c0-1.1-.9-2-2-2zM9 17H7v-7h2v7zm4 0h-2V7h2v10zm4 0h-2v-4h2v4z\"/>\n",
              "    </g>\n",
              "</svg>\n",
              "  </button>\n",
              "\n",
              "<style>\n",
              "  .colab-df-quickchart {\n",
              "      --bg-color: #E8F0FE;\n",
              "      --fill-color: #1967D2;\n",
              "      --hover-bg-color: #E2EBFA;\n",
              "      --hover-fill-color: #174EA6;\n",
              "      --disabled-fill-color: #AAA;\n",
              "      --disabled-bg-color: #DDD;\n",
              "  }\n",
              "\n",
              "  [theme=dark] .colab-df-quickchart {\n",
              "      --bg-color: #3B4455;\n",
              "      --fill-color: #D2E3FC;\n",
              "      --hover-bg-color: #434B5C;\n",
              "      --hover-fill-color: #FFFFFF;\n",
              "      --disabled-bg-color: #3B4455;\n",
              "      --disabled-fill-color: #666;\n",
              "  }\n",
              "\n",
              "  .colab-df-quickchart {\n",
              "    background-color: var(--bg-color);\n",
              "    border: none;\n",
              "    border-radius: 50%;\n",
              "    cursor: pointer;\n",
              "    display: none;\n",
              "    fill: var(--fill-color);\n",
              "    height: 32px;\n",
              "    padding: 0;\n",
              "    width: 32px;\n",
              "  }\n",
              "\n",
              "  .colab-df-quickchart:hover {\n",
              "    background-color: var(--hover-bg-color);\n",
              "    box-shadow: 0 1px 2px rgba(60, 64, 67, 0.3), 0 1px 3px 1px rgba(60, 64, 67, 0.15);\n",
              "    fill: var(--button-hover-fill-color);\n",
              "  }\n",
              "\n",
              "  .colab-df-quickchart-complete:disabled,\n",
              "  .colab-df-quickchart-complete:disabled:hover {\n",
              "    background-color: var(--disabled-bg-color);\n",
              "    fill: var(--disabled-fill-color);\n",
              "    box-shadow: none;\n",
              "  }\n",
              "\n",
              "  .colab-df-spinner {\n",
              "    border: 2px solid var(--fill-color);\n",
              "    border-color: transparent;\n",
              "    border-bottom-color: var(--fill-color);\n",
              "    animation:\n",
              "      spin 1s steps(1) infinite;\n",
              "  }\n",
              "\n",
              "  @keyframes spin {\n",
              "    0% {\n",
              "      border-color: transparent;\n",
              "      border-bottom-color: var(--fill-color);\n",
              "      border-left-color: var(--fill-color);\n",
              "    }\n",
              "    20% {\n",
              "      border-color: transparent;\n",
              "      border-left-color: var(--fill-color);\n",
              "      border-top-color: var(--fill-color);\n",
              "    }\n",
              "    30% {\n",
              "      border-color: transparent;\n",
              "      border-left-color: var(--fill-color);\n",
              "      border-top-color: var(--fill-color);\n",
              "      border-right-color: var(--fill-color);\n",
              "    }\n",
              "    40% {\n",
              "      border-color: transparent;\n",
              "      border-right-color: var(--fill-color);\n",
              "      border-top-color: var(--fill-color);\n",
              "    }\n",
              "    60% {\n",
              "      border-color: transparent;\n",
              "      border-right-color: var(--fill-color);\n",
              "    }\n",
              "    80% {\n",
              "      border-color: transparent;\n",
              "      border-right-color: var(--fill-color);\n",
              "      border-bottom-color: var(--fill-color);\n",
              "    }\n",
              "    90% {\n",
              "      border-color: transparent;\n",
              "      border-bottom-color: var(--fill-color);\n",
              "    }\n",
              "  }\n",
              "</style>\n",
              "\n",
              "  <script>\n",
              "    async function quickchart(key) {\n",
              "      const quickchartButtonEl =\n",
              "        document.querySelector('#' + key + ' button');\n",
              "      quickchartButtonEl.disabled = true;  // To prevent multiple clicks.\n",
              "      quickchartButtonEl.classList.add('colab-df-spinner');\n",
              "      try {\n",
              "        const charts = await google.colab.kernel.invokeFunction(\n",
              "            'suggestCharts', [key], {});\n",
              "      } catch (error) {\n",
              "        console.error('Error during call to suggestCharts:', error);\n",
              "      }\n",
              "      quickchartButtonEl.classList.remove('colab-df-spinner');\n",
              "      quickchartButtonEl.classList.add('colab-df-quickchart-complete');\n",
              "    }\n",
              "    (() => {\n",
              "      let quickchartButtonEl =\n",
              "        document.querySelector('#df-4f7d6ffa-7b05-4216-a18a-77839b96b0db button');\n",
              "      quickchartButtonEl.style.display =\n",
              "        google.colab.kernel.accessAllowed ? 'block' : 'none';\n",
              "    })();\n",
              "  </script>\n",
              "</div>\n",
              "    </div>\n",
              "  </div>\n"
            ],
            "application/vnd.google.colaboratory.intrinsic+json": {
              "type": "dataframe",
              "variable_name": "data"
            }
          },
          "metadata": {},
          "execution_count": 226
        }
      ]
    },
    {
      "cell_type": "markdown",
      "source": [
        "### Encoding"
      ],
      "metadata": {
        "id": "btKoRAxkOzQw"
      }
    },
    {
      "cell_type": "code",
      "source": [
        "sensor_encoder = LabelEncoder()\n",
        "data['SensorId_encoded'] = sensor_encoder.fit_transform(data['SensorId'])"
      ],
      "metadata": {
        "id": "o3qY1KpItL8d"
      },
      "execution_count": null,
      "outputs": []
    },
    {
      "cell_type": "markdown",
      "source": [
        "### Define features and target"
      ],
      "metadata": {
        "id": "OgOyEqjuO2TO"
      }
    },
    {
      "cell_type": "code",
      "source": [
        "features = ['humidity', 'temperature', 'pm10-1', 'pm10-2', 'pm10-3', 'Hour', 'Month_Day_Calculation']\n",
        "target = 'pm10'"
      ],
      "metadata": {
        "id": "TCPxVLsftz5h"
      },
      "execution_count": null,
      "outputs": []
    },
    {
      "cell_type": "markdown",
      "source": [
        "### Prepare the data"
      ],
      "metadata": {
        "id": "3WJW87dXO5kN"
      }
    },
    {
      "cell_type": "code",
      "source": [
        "X = data[features].values\n",
        "y = data[target].values\n",
        "sensor_ids = data['SensorId_encoded'].values"
      ],
      "metadata": {
        "id": "I9OEdtLQuAO8"
      },
      "execution_count": null,
      "outputs": []
    },
    {
      "cell_type": "markdown",
      "source": [
        "### Scale the features"
      ],
      "metadata": {
        "id": "e3Rsmk2fO8Q4"
      }
    },
    {
      "cell_type": "code",
      "source": [
        "scaler = StandardScaler()\n",
        "X_scaled = scaler.fit_transform(X)"
      ],
      "metadata": {
        "id": "PRnxLGJcuINe"
      },
      "execution_count": null,
      "outputs": []
    },
    {
      "cell_type": "code",
      "source": [
        "X_scaled = X_scaled.reshape((X_scaled.shape[0], 1, X_scaled.shape[1]))"
      ],
      "metadata": {
        "id": "oPFmdejZuJxc"
      },
      "execution_count": null,
      "outputs": []
    },
    {
      "cell_type": "markdown",
      "source": [
        "### Train test split"
      ],
      "metadata": {
        "id": "0HV5ZTnzPCQ_"
      }
    },
    {
      "cell_type": "code",
      "source": [
        "X_train, X_test, y_train, y_test, sensor_ids_train, sensor_ids_test = train_test_split(\n",
        "    X_scaled, y, sensor_ids, test_size=0.2, random_state=False\n",
        ")"
      ],
      "metadata": {
        "id": "G3CGKxABuRGY"
      },
      "execution_count": null,
      "outputs": []
    },
    {
      "cell_type": "markdown",
      "source": [
        "### **Model**"
      ],
      "metadata": {
        "id": "1GaojSzeO-M8"
      }
    },
    {
      "cell_type": "code",
      "source": [
        "sensor_count = len(np.unique(sensor_ids))\n",
        "embedding_dim = 10"
      ],
      "metadata": {
        "id": "oyuJCwm4ubic"
      },
      "execution_count": null,
      "outputs": []
    },
    {
      "cell_type": "code",
      "source": [
        "sensor_input = Input(shape=(1,))\n",
        "time_series_input = Input(shape=(1, X_scaled.shape[2]))"
      ],
      "metadata": {
        "id": "XXyc7-r8uhWg"
      },
      "execution_count": null,
      "outputs": []
    },
    {
      "cell_type": "code",
      "source": [
        "sensor_embedding = Embedding(input_dim=sensor_count, output_dim=embedding_dim)(sensor_input)\n",
        "sensor_embedding = Flatten()(sensor_embedding)"
      ],
      "metadata": {
        "id": "2vwWtHixujLv"
      },
      "execution_count": null,
      "outputs": []
    },
    {
      "cell_type": "code",
      "source": [
        "x = LSTM(64, return_sequences=False)(time_series_input)\n",
        "x = Dropout(0.2)(x)"
      ],
      "metadata": {
        "id": "ihDo0-FDulNr"
      },
      "execution_count": null,
      "outputs": []
    },
    {
      "cell_type": "code",
      "source": [
        "x = Concatenate()([x, sensor_embedding])\n",
        "x = Dense(32, activation='relu')(x)\n",
        "output = Dense(1)(x)"
      ],
      "metadata": {
        "id": "8HMMNf35u7Vr"
      },
      "execution_count": null,
      "outputs": []
    },
    {
      "cell_type": "code",
      "source": [
        "model = Model(inputs=[time_series_input, sensor_input], outputs=output)\n",
        "model.compile(optimizer=Adam(learning_rate=0.001), loss='mse')"
      ],
      "metadata": {
        "id": "yv-YAwbau9At"
      },
      "execution_count": null,
      "outputs": []
    },
    {
      "cell_type": "code",
      "source": [
        "history = model.fit(\n",
        "    [X_train, sensor_ids_train], y_train,\n",
        "    epochs=1,\n",
        "    batch_size=32,\n",
        "    validation_data=([X_test, sensor_ids_test], y_test)\n",
        ")"
      ],
      "metadata": {
        "colab": {
          "base_uri": "https://localhost:8080/"
        },
        "id": "Ypo1cMk-vB6_",
        "outputId": "6c3cf762-7beb-4b5b-ecf4-2b5354d96068"
      },
      "execution_count": null,
      "outputs": [
        {
          "output_type": "stream",
          "name": "stdout",
          "text": [
            "\u001b[1m82809/82809\u001b[0m \u001b[32m━━━━━━━━━━━━━━━━━━━━\u001b[0m\u001b[37m\u001b[0m \u001b[1m596s\u001b[0m 7ms/step - loss: 1187.2133 - val_loss: 260.5684\n"
          ]
        }
      ]
    },
    {
      "cell_type": "code",
      "source": [
        "predictions = model.predict([X_test, sensor_ids_test])"
      ],
      "metadata": {
        "colab": {
          "base_uri": "https://localhost:8080/"
        },
        "id": "LXng379qvOGN",
        "outputId": "f9feb7a3-b8f1-4bb4-b655-e64c01711562"
      },
      "execution_count": null,
      "outputs": [
        {
          "output_type": "stream",
          "name": "stdout",
          "text": [
            "\u001b[1m20703/20703\u001b[0m \u001b[32m━━━━━━━━━━━━━━━━━━━━\u001b[0m\u001b[37m\u001b[0m \u001b[1m56s\u001b[0m 3ms/step\n"
          ]
        }
      ]
    },
    {
      "cell_type": "markdown",
      "source": [
        "### Evaluation"
      ],
      "metadata": {
        "id": "jxaVuGZRPJPA"
      }
    },
    {
      "cell_type": "code",
      "source": [
        "mse = mean_squared_error(y_test, predictions)\n",
        "mae = mean_absolute_error(y_test, predictions)\n",
        "r2 = r2_score(y_test, predictions)\n",
        "print(f\"Mean Squared Error (MSE): {mse:.4f}, Mean Absolute Error (MAE): {mae:.4f}, R-squared (R²): {r2:.4f}\")"
      ],
      "metadata": {
        "colab": {
          "base_uri": "https://localhost:8080/"
        },
        "id": "aCjDN51XPN4T",
        "outputId": "9b658822-5189-4558-9b7d-304d00ad380f"
      },
      "execution_count": null,
      "outputs": [
        {
          "output_type": "stream",
          "name": "stdout",
          "text": [
            "Mean Squared Error (MSE): 260.5683, Mean Absolute Error (MAE): 4.6668, R-squared (R²): 0.9877\n"
          ]
        }
      ]
    }
  ]
}